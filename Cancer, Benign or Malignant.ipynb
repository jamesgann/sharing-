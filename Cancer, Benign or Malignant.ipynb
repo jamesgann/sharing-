{
 "cells": [
  {
   "cell_type": "code",
   "execution_count": 1,
   "metadata": {},
   "outputs": [],
   "source": [
    "import pandas as pd \n",
    "\n",
    "data = pd.read_csv(\"data.csv\")"
   ]
  },
  {
   "cell_type": "markdown",
   "metadata": {},
   "source": [
    "# Exploring the dataset \n",
    "### 1. Check if there is any null value |"
   ]
  },
  {
   "cell_type": "code",
   "execution_count": 2,
   "metadata": {},
   "outputs": [
    {
     "data": {
      "text/plain": [
       "id                           0\n",
       "diagnosis                    0\n",
       "radius_mean                  0\n",
       "texture_mean                 0\n",
       "perimeter_mean               0\n",
       "area_mean                    0\n",
       "smoothness_mean              0\n",
       "compactness_mean             0\n",
       "concavity_mean               0\n",
       "concave points_mean          0\n",
       "symmetry_mean                0\n",
       "fractal_dimension_mean       0\n",
       "radius_se                    0\n",
       "texture_se                   0\n",
       "perimeter_se                 0\n",
       "area_se                      0\n",
       "smoothness_se                0\n",
       "compactness_se               0\n",
       "concavity_se                 0\n",
       "concave points_se            0\n",
       "symmetry_se                  0\n",
       "fractal_dimension_se         0\n",
       "radius_worst                 0\n",
       "texture_worst                0\n",
       "perimeter_worst              0\n",
       "area_worst                   0\n",
       "smoothness_worst             0\n",
       "compactness_worst            0\n",
       "concavity_worst              0\n",
       "concave points_worst         0\n",
       "symmetry_worst               0\n",
       "fractal_dimension_worst      0\n",
       "Unnamed: 32                569\n",
       "dtype: int64"
      ]
     },
     "execution_count": 2,
     "metadata": {},
     "output_type": "execute_result"
    }
   ],
   "source": [
    "data.isnull().sum()"
   ]
  },
  {
   "cell_type": "code",
   "execution_count": 3,
   "metadata": {},
   "outputs": [],
   "source": [
    "data = data.drop(\"Unnamed: 32\",axis = 1)"
   ]
  },
  {
   "cell_type": "markdown",
   "metadata": {},
   "source": [
    "### 2. Check the data types of all columns"
   ]
  },
  {
   "cell_type": "code",
   "execution_count": 4,
   "metadata": {},
   "outputs": [
    {
     "data": {
      "text/plain": [
       "id                           int64\n",
       "diagnosis                   object\n",
       "radius_mean                float64\n",
       "texture_mean               float64\n",
       "perimeter_mean             float64\n",
       "area_mean                  float64\n",
       "smoothness_mean            float64\n",
       "compactness_mean           float64\n",
       "concavity_mean             float64\n",
       "concave points_mean        float64\n",
       "symmetry_mean              float64\n",
       "fractal_dimension_mean     float64\n",
       "radius_se                  float64\n",
       "texture_se                 float64\n",
       "perimeter_se               float64\n",
       "area_se                    float64\n",
       "smoothness_se              float64\n",
       "compactness_se             float64\n",
       "concavity_se               float64\n",
       "concave points_se          float64\n",
       "symmetry_se                float64\n",
       "fractal_dimension_se       float64\n",
       "radius_worst               float64\n",
       "texture_worst              float64\n",
       "perimeter_worst            float64\n",
       "area_worst                 float64\n",
       "smoothness_worst           float64\n",
       "compactness_worst          float64\n",
       "concavity_worst            float64\n",
       "concave points_worst       float64\n",
       "symmetry_worst             float64\n",
       "fractal_dimension_worst    float64\n",
       "dtype: object"
      ]
     },
     "execution_count": 4,
     "metadata": {},
     "output_type": "execute_result"
    }
   ],
   "source": [
    "data.dtypes"
   ]
  },
  {
   "cell_type": "markdown",
   "metadata": {},
   "source": [
    "<font size=3> It seems that all variables except our target are all numerical (float), Nice !!  </font>"
   ]
  },
  {
   "cell_type": "markdown",
   "metadata": {},
   "source": [
    "### 3. Remove unwanted column. <br>\n",
    "<font>\n",
    "    Id column is not useful for our machine learning model. So, remove it.\n",
    "</font> "
   ]
  },
  {
   "cell_type": "code",
   "execution_count": 5,
   "metadata": {},
   "outputs": [],
   "source": [
    "data = data.drop(\"id\",axis =1)"
   ]
  },
  {
   "cell_type": "markdown",
   "metadata": {},
   "source": [
    "### 4. Remove columns (predicting variables) that have high correlation with each other. (remove only one of the two)."
   ]
  },
  {
   "cell_type": "code",
   "execution_count": 6,
   "metadata": {},
   "outputs": [],
   "source": [
    "%matplotlib inline "
   ]
  },
  {
   "cell_type": "code",
   "execution_count": 7,
   "metadata": {},
   "outputs": [
    {
     "data": {
      "text/plain": [
       "<matplotlib.axes._subplots.AxesSubplot at 0x25e82395608>"
      ]
     },
     "execution_count": 7,
     "metadata": {},
     "output_type": "execute_result"
    },
    {
     "data": {
      "image/png": "[encoded data removed]",
      "text/plain": [
       "<Figure size 792x648 with 2 Axes>"
      ]
     },
     "metadata": {},
     "output_type": "display_data"
    }
   ],
   "source": [
    "import numpy as np\n",
    "import seaborn as sns\n",
    "import matplotlib.pyplot as plt\n",
    "\n",
    "sns.set(style=\"white\")\n",
    "\n",
    "corr = data.corr()\n",
    "\n",
    "# Generate a mask for the upper triangle\n",
    "mask = np.triu(np.ones_like(corr, dtype=np.bool))\n",
    "\n",
    "# Set up the matplotlib figure\n",
    "f, ax = plt.subplots(figsize=(11, 9))\n",
    "\n",
    "# Generate a custom diverging colormap\n",
    "cmap = sns.diverging_palette(220, 10, as_cmap=True)\n",
    "\n",
    "# Draw the heatmap with the mask and correct aspect ratio\n",
    "sns.heatmap(corr, mask=mask, cmap=cmap, vmax=1, center=0,\n",
    "            square=True, linewidths=.5, cbar_kws={\"shrink\": .5})"
   ]
  },
  {
   "cell_type": "markdown",
   "metadata": {},
   "source": [
    "<font size=3> \n",
    "    Columns that have high correlation with another columns will be removed\n",
    "</font> \n"
   ]
  },
  {
   "cell_type": "code",
   "execution_count": 8,
   "metadata": {},
   "outputs": [],
   "source": [
    "to_drop = [\"perimeter_mean\",\"area_mean\",\"radius_worst\",\"perimeter_worst\",\"area_worst\",\"perimeter_se\",\"area_se\",\"concavity_mean\",\n",
    "           \"concave points_mean\",\"texture_worst\",\"concavity_se\",\"concave points_se\",\"fractal_dimension_se\",\"concavity_worst\",\n",
    "           \"concave points_worst\"]\n",
    "data = data.drop(to_drop,axis=1)"
   ]
  },
  {
   "cell_type": "code",
   "execution_count": 9,
   "metadata": {},
   "outputs": [
    {
     "data": {
      "text/plain": [
       "<matplotlib.axes._subplots.AxesSubplot at 0x25e839d7cc8>"
      ]
     },
     "execution_count": 9,
     "metadata": {},
     "output_type": "execute_result"
    },
    {
     "data": {
      "image/png": "[encoded data removed]",
      "text/plain": [
       "<Figure size 792x648 with 2 Axes>"
      ]
     },
     "metadata": {},
     "output_type": "display_data"
    }
   ],
   "source": [
    "sns.set(style=\"white\")\n",
    "\n",
    "corr = data.corr()\n",
    "\n",
    "# Generate a mask for the upper triangle\n",
    "mask = np.triu(np.ones_like(corr, dtype=np.bool))\n",
    "\n",
    "# Set up the matplotlib figure\n",
    "f, ax = plt.subplots(figsize=(11, 9))\n",
    "\n",
    "# Generate a custom diverging colormap\n",
    "cmap = sns.diverging_palette(220, 10, as_cmap=True)\n",
    "\n",
    "# Draw the heatmap with the mask and correct aspect ratio\n",
    "sns.heatmap(corr, mask=mask, cmap=cmap, vmax=1, center=0,\n",
    "            square=True, linewidths=.5, cbar_kws={\"shrink\": .5})"
   ]
  },
  {
   "cell_type": "code",
   "execution_count": 10,
   "metadata": {},
   "outputs": [
    {
     "data": {
      "text/html": [
       "<div>\n",
       "<style scoped>\n",
       "    .dataframe tbody tr th:only-of-type {\n",
       "        vertical-align: middle;\n",
       "    }\n",
       "\n",
       "    .dataframe tbody tr th {\n",
       "        vertical-align: top;\n",
       "    }\n",
       "\n",
       "    .dataframe thead th {\n",
       "        text-align: right;\n",
       "    }\n",
       "</style>\n",
       "<table border=\"1\" class=\"dataframe\">\n",
       "  <thead>\n",
       "    <tr style=\"text-align: right;\">\n",
       "      <th></th>\n",
       "      <th>diagnosis</th>\n",
       "      <th>radius_mean</th>\n",
       "      <th>texture_mean</th>\n",
       "      <th>smoothness_mean</th>\n",
       "      <th>compactness_mean</th>\n",
       "      <th>symmetry_mean</th>\n",
       "      <th>fractal_dimension_mean</th>\n",
       "      <th>radius_se</th>\n",
       "      <th>texture_se</th>\n",
       "      <th>smoothness_se</th>\n",
       "      <th>compactness_se</th>\n",
       "      <th>symmetry_se</th>\n",
       "      <th>smoothness_worst</th>\n",
       "      <th>compactness_worst</th>\n",
       "      <th>symmetry_worst</th>\n",
       "      <th>fractal_dimension_worst</th>\n",
       "    </tr>\n",
       "  </thead>\n",
       "  <tbody>\n",
       "    <tr>\n",
       "      <td>0</td>\n",
       "      <td>M</td>\n",
       "      <td>17.99</td>\n",
       "      <td>10.38</td>\n",
       "      <td>0.11840</td>\n",
       "      <td>0.27760</td>\n",
       "      <td>0.2419</td>\n",
       "      <td>0.07871</td>\n",
       "      <td>1.0950</td>\n",
       "      <td>0.9053</td>\n",
       "      <td>0.006399</td>\n",
       "      <td>0.04904</td>\n",
       "      <td>0.03003</td>\n",
       "      <td>0.16220</td>\n",
       "      <td>0.66560</td>\n",
       "      <td>0.4601</td>\n",
       "      <td>0.11890</td>\n",
       "    </tr>\n",
       "    <tr>\n",
       "      <td>1</td>\n",
       "      <td>M</td>\n",
       "      <td>20.57</td>\n",
       "      <td>17.77</td>\n",
       "      <td>0.08474</td>\n",
       "      <td>0.07864</td>\n",
       "      <td>0.1812</td>\n",
       "      <td>0.05667</td>\n",
       "      <td>0.5435</td>\n",
       "      <td>0.7339</td>\n",
       "      <td>0.005225</td>\n",
       "      <td>0.01308</td>\n",
       "      <td>0.01389</td>\n",
       "      <td>0.12380</td>\n",
       "      <td>0.18660</td>\n",
       "      <td>0.2750</td>\n",
       "      <td>0.08902</td>\n",
       "    </tr>\n",
       "    <tr>\n",
       "      <td>2</td>\n",
       "      <td>M</td>\n",
       "      <td>19.69</td>\n",
       "      <td>21.25</td>\n",
       "      <td>0.10960</td>\n",
       "      <td>0.15990</td>\n",
       "      <td>0.2069</td>\n",
       "      <td>0.05999</td>\n",
       "      <td>0.7456</td>\n",
       "      <td>0.7869</td>\n",
       "      <td>0.006150</td>\n",
       "      <td>0.04006</td>\n",
       "      <td>0.02250</td>\n",
       "      <td>0.14440</td>\n",
       "      <td>0.42450</td>\n",
       "      <td>0.3613</td>\n",
       "      <td>0.08758</td>\n",
       "    </tr>\n",
       "    <tr>\n",
       "      <td>3</td>\n",
       "      <td>M</td>\n",
       "      <td>11.42</td>\n",
       "      <td>20.38</td>\n",
       "      <td>0.14250</td>\n",
       "      <td>0.28390</td>\n",
       "      <td>0.2597</td>\n",
       "      <td>0.09744</td>\n",
       "      <td>0.4956</td>\n",
       "      <td>1.1560</td>\n",
       "      <td>0.009110</td>\n",
       "      <td>0.07458</td>\n",
       "      <td>0.05963</td>\n",
       "      <td>0.20980</td>\n",
       "      <td>0.86630</td>\n",
       "      <td>0.6638</td>\n",
       "      <td>0.17300</td>\n",
       "    </tr>\n",
       "    <tr>\n",
       "      <td>4</td>\n",
       "      <td>M</td>\n",
       "      <td>20.29</td>\n",
       "      <td>14.34</td>\n",
       "      <td>0.10030</td>\n",
       "      <td>0.13280</td>\n",
       "      <td>0.1809</td>\n",
       "      <td>0.05883</td>\n",
       "      <td>0.7572</td>\n",
       "      <td>0.7813</td>\n",
       "      <td>0.011490</td>\n",
       "      <td>0.02461</td>\n",
       "      <td>0.01756</td>\n",
       "      <td>0.13740</td>\n",
       "      <td>0.20500</td>\n",
       "      <td>0.2364</td>\n",
       "      <td>0.07678</td>\n",
       "    </tr>\n",
       "    <tr>\n",
       "      <td>...</td>\n",
       "      <td>...</td>\n",
       "      <td>...</td>\n",
       "      <td>...</td>\n",
       "      <td>...</td>\n",
       "      <td>...</td>\n",
       "      <td>...</td>\n",
       "      <td>...</td>\n",
       "      <td>...</td>\n",
       "      <td>...</td>\n",
       "      <td>...</td>\n",
       "      <td>...</td>\n",
       "      <td>...</td>\n",
       "      <td>...</td>\n",
       "      <td>...</td>\n",
       "      <td>...</td>\n",
       "      <td>...</td>\n",
       "    </tr>\n",
       "    <tr>\n",
       "      <td>564</td>\n",
       "      <td>M</td>\n",
       "      <td>21.56</td>\n",
       "      <td>22.39</td>\n",
       "      <td>0.11100</td>\n",
       "      <td>0.11590</td>\n",
       "      <td>0.1726</td>\n",
       "      <td>0.05623</td>\n",
       "      <td>1.1760</td>\n",
       "      <td>1.2560</td>\n",
       "      <td>0.010300</td>\n",
       "      <td>0.02891</td>\n",
       "      <td>0.01114</td>\n",
       "      <td>0.14100</td>\n",
       "      <td>0.21130</td>\n",
       "      <td>0.2060</td>\n",
       "      <td>0.07115</td>\n",
       "    </tr>\n",
       "    <tr>\n",
       "      <td>565</td>\n",
       "      <td>M</td>\n",
       "      <td>20.13</td>\n",
       "      <td>28.25</td>\n",
       "      <td>0.09780</td>\n",
       "      <td>0.10340</td>\n",
       "      <td>0.1752</td>\n",
       "      <td>0.05533</td>\n",
       "      <td>0.7655</td>\n",
       "      <td>2.4630</td>\n",
       "      <td>0.005769</td>\n",
       "      <td>0.02423</td>\n",
       "      <td>0.01898</td>\n",
       "      <td>0.11660</td>\n",
       "      <td>0.19220</td>\n",
       "      <td>0.2572</td>\n",
       "      <td>0.06637</td>\n",
       "    </tr>\n",
       "    <tr>\n",
       "      <td>566</td>\n",
       "      <td>M</td>\n",
       "      <td>16.60</td>\n",
       "      <td>28.08</td>\n",
       "      <td>0.08455</td>\n",
       "      <td>0.10230</td>\n",
       "      <td>0.1590</td>\n",
       "      <td>0.05648</td>\n",
       "      <td>0.4564</td>\n",
       "      <td>1.0750</td>\n",
       "      <td>0.005903</td>\n",
       "      <td>0.03731</td>\n",
       "      <td>0.01318</td>\n",
       "      <td>0.11390</td>\n",
       "      <td>0.30940</td>\n",
       "      <td>0.2218</td>\n",
       "      <td>0.07820</td>\n",
       "    </tr>\n",
       "    <tr>\n",
       "      <td>567</td>\n",
       "      <td>M</td>\n",
       "      <td>20.60</td>\n",
       "      <td>29.33</td>\n",
       "      <td>0.11780</td>\n",
       "      <td>0.27700</td>\n",
       "      <td>0.2397</td>\n",
       "      <td>0.07016</td>\n",
       "      <td>0.7260</td>\n",
       "      <td>1.5950</td>\n",
       "      <td>0.006522</td>\n",
       "      <td>0.06158</td>\n",
       "      <td>0.02324</td>\n",
       "      <td>0.16500</td>\n",
       "      <td>0.86810</td>\n",
       "      <td>0.4087</td>\n",
       "      <td>0.12400</td>\n",
       "    </tr>\n",
       "    <tr>\n",
       "      <td>568</td>\n",
       "      <td>B</td>\n",
       "      <td>7.76</td>\n",
       "      <td>24.54</td>\n",
       "      <td>0.05263</td>\n",
       "      <td>0.04362</td>\n",
       "      <td>0.1587</td>\n",
       "      <td>0.05884</td>\n",
       "      <td>0.3857</td>\n",
       "      <td>1.4280</td>\n",
       "      <td>0.007189</td>\n",
       "      <td>0.00466</td>\n",
       "      <td>0.02676</td>\n",
       "      <td>0.08996</td>\n",
       "      <td>0.06444</td>\n",
       "      <td>0.2871</td>\n",
       "      <td>0.07039</td>\n",
       "    </tr>\n",
       "  </tbody>\n",
       "</table>\n",
       "<p>569 rows × 16 columns</p>\n",
       "</div>"
      ],
      "text/plain": [
       "    diagnosis  radius_mean  texture_mean  smoothness_mean  compactness_mean  \\\n",
       "0           M        17.99         10.38          0.11840           0.27760   \n",
       "1           M        20.57         17.77          0.08474           0.07864   \n",
       "2           M        19.69         21.25          0.10960           0.15990   \n",
       "3           M        11.42         20.38          0.14250           0.28390   \n",
       "4           M        20.29         14.34          0.10030           0.13280   \n",
       "..        ...          ...           ...              ...               ...   \n",
       "564         M        21.56         22.39          0.11100           0.11590   \n",
       "565         M        20.13         28.25          0.09780           0.10340   \n",
       "566         M        16.60         28.08          0.08455           0.10230   \n",
       "567         M        20.60         29.33          0.11780           0.27700   \n",
       "568         B         7.76         24.54          0.05263           0.04362   \n",
       "\n",
       "     symmetry_mean  fractal_dimension_mean  radius_se  texture_se  \\\n",
       "0           0.2419                 0.07871     1.0950      0.9053   \n",
       "1           0.1812                 0.05667     0.5435      0.7339   \n",
       "2           0.2069                 0.05999     0.7456      0.7869   \n",
       "3           0.2597                 0.09744     0.4956      1.1560   \n",
       "4           0.1809                 0.05883     0.7572      0.7813   \n",
       "..             ...                     ...        ...         ...   \n",
       "564         0.1726                 0.05623     1.1760      1.2560   \n",
       "565         0.1752                 0.05533     0.7655      2.4630   \n",
       "566         0.1590                 0.05648     0.4564      1.0750   \n",
       "567         0.2397                 0.07016     0.7260      1.5950   \n",
       "568         0.1587                 0.05884     0.3857      1.4280   \n",
       "\n",
       "     smoothness_se  compactness_se  symmetry_se  smoothness_worst  \\\n",
       "0         0.006399         0.04904      0.03003           0.16220   \n",
       "1         0.005225         0.01308      0.01389           0.12380   \n",
       "2         0.006150         0.04006      0.02250           0.14440   \n",
       "3         0.009110         0.07458      0.05963           0.20980   \n",
       "4         0.011490         0.02461      0.01756           0.13740   \n",
       "..             ...             ...          ...               ...   \n",
       "564       0.010300         0.02891      0.01114           0.14100   \n",
       "565       0.005769         0.02423      0.01898           0.11660   \n",
       "566       0.005903         0.03731      0.01318           0.11390   \n",
       "567       0.006522         0.06158      0.02324           0.16500   \n",
       "568       0.007189         0.00466      0.02676           0.08996   \n",
       "\n",
       "     compactness_worst  symmetry_worst  fractal_dimension_worst  \n",
       "0              0.66560          0.4601                  0.11890  \n",
       "1              0.18660          0.2750                  0.08902  \n",
       "2              0.42450          0.3613                  0.08758  \n",
       "3              0.86630          0.6638                  0.17300  \n",
       "4              0.20500          0.2364                  0.07678  \n",
       "..                 ...             ...                      ...  \n",
       "564            0.21130          0.2060                  0.07115  \n",
       "565            0.19220          0.2572                  0.06637  \n",
       "566            0.30940          0.2218                  0.07820  \n",
       "567            0.86810          0.4087                  0.12400  \n",
       "568            0.06444          0.2871                  0.07039  \n",
       "\n",
       "[569 rows x 16 columns]"
      ]
     },
     "execution_count": 10,
     "metadata": {},
     "output_type": "execute_result"
    }
   ],
   "source": [
    "data"
   ]
  },
  {
   "cell_type": "markdown",
   "metadata": {},
   "source": [
    "### 5. Normalise all numerical columns to range of 0 and 1"
   ]
  },
  {
   "cell_type": "code",
   "execution_count": 11,
   "metadata": {},
   "outputs": [],
   "source": [
    "target = data[\"diagnosis\"]\n",
    "data = data.drop(\"diagnosis\",axis=1)\n",
    "data = data /data.max()\n",
    "data = pd.concat([data,target],axis=1)"
   ]
  },
  {
   "cell_type": "code",
   "execution_count": 12,
   "metadata": {},
   "outputs": [
    {
     "data": {
      "text/html": [
       "<div>\n",
       "<style scoped>\n",
       "    .dataframe tbody tr th:only-of-type {\n",
       "        vertical-align: middle;\n",
       "    }\n",
       "\n",
       "    .dataframe tbody tr th {\n",
       "        vertical-align: top;\n",
       "    }\n",
       "\n",
       "    .dataframe thead th {\n",
       "        text-align: right;\n",
       "    }\n",
       "</style>\n",
       "<table border=\"1\" class=\"dataframe\">\n",
       "  <thead>\n",
       "    <tr style=\"text-align: right;\">\n",
       "      <th></th>\n",
       "      <th>radius_mean</th>\n",
       "      <th>texture_mean</th>\n",
       "      <th>smoothness_mean</th>\n",
       "      <th>compactness_mean</th>\n",
       "      <th>symmetry_mean</th>\n",
       "      <th>fractal_dimension_mean</th>\n",
       "      <th>radius_se</th>\n",
       "      <th>texture_se</th>\n",
       "      <th>smoothness_se</th>\n",
       "      <th>compactness_se</th>\n",
       "      <th>symmetry_se</th>\n",
       "      <th>smoothness_worst</th>\n",
       "      <th>compactness_worst</th>\n",
       "      <th>symmetry_worst</th>\n",
       "      <th>fractal_dimension_worst</th>\n",
       "      <th>diagnosis</th>\n",
       "    </tr>\n",
       "  </thead>\n",
       "  <tbody>\n",
       "    <tr>\n",
       "      <td>0</td>\n",
       "      <td>0.639986</td>\n",
       "      <td>0.264257</td>\n",
       "      <td>0.724602</td>\n",
       "      <td>0.803706</td>\n",
       "      <td>0.795724</td>\n",
       "      <td>0.807779</td>\n",
       "      <td>0.381135</td>\n",
       "      <td>0.185322</td>\n",
       "      <td>0.205557</td>\n",
       "      <td>0.362186</td>\n",
       "      <td>0.380367</td>\n",
       "      <td>0.728661</td>\n",
       "      <td>0.629112</td>\n",
       "      <td>0.693130</td>\n",
       "      <td>0.573012</td>\n",
       "      <td>M</td>\n",
       "    </tr>\n",
       "    <tr>\n",
       "      <td>1</td>\n",
       "      <td>0.731768</td>\n",
       "      <td>0.452393</td>\n",
       "      <td>0.518605</td>\n",
       "      <td>0.227678</td>\n",
       "      <td>0.596053</td>\n",
       "      <td>0.581589</td>\n",
       "      <td>0.189175</td>\n",
       "      <td>0.150235</td>\n",
       "      <td>0.167845</td>\n",
       "      <td>0.096603</td>\n",
       "      <td>0.175934</td>\n",
       "      <td>0.556155</td>\n",
       "      <td>0.176371</td>\n",
       "      <td>0.414281</td>\n",
       "      <td>0.429012</td>\n",
       "      <td>M</td>\n",
       "    </tr>\n",
       "    <tr>\n",
       "      <td>2</td>\n",
       "      <td>0.700462</td>\n",
       "      <td>0.540988</td>\n",
       "      <td>0.670747</td>\n",
       "      <td>0.462942</td>\n",
       "      <td>0.680592</td>\n",
       "      <td>0.615661</td>\n",
       "      <td>0.259520</td>\n",
       "      <td>0.161085</td>\n",
       "      <td>0.197559</td>\n",
       "      <td>0.295864</td>\n",
       "      <td>0.284991</td>\n",
       "      <td>0.648697</td>\n",
       "      <td>0.401229</td>\n",
       "      <td>0.544290</td>\n",
       "      <td>0.422072</td>\n",
       "      <td>M</td>\n",
       "    </tr>\n",
       "    <tr>\n",
       "      <td>3</td>\n",
       "      <td>0.406261</td>\n",
       "      <td>0.518839</td>\n",
       "      <td>0.872093</td>\n",
       "      <td>0.821946</td>\n",
       "      <td>0.854276</td>\n",
       "      <td>1.000000</td>\n",
       "      <td>0.172503</td>\n",
       "      <td>0.236643</td>\n",
       "      <td>0.292644</td>\n",
       "      <td>0.550812</td>\n",
       "      <td>0.755288</td>\n",
       "      <td>0.942498</td>\n",
       "      <td>0.818809</td>\n",
       "      <td>1.000000</td>\n",
       "      <td>0.833735</td>\n",
       "      <td>M</td>\n",
       "    </tr>\n",
       "    <tr>\n",
       "      <td>4</td>\n",
       "      <td>0.721807</td>\n",
       "      <td>0.365071</td>\n",
       "      <td>0.613831</td>\n",
       "      <td>0.384482</td>\n",
       "      <td>0.595066</td>\n",
       "      <td>0.603756</td>\n",
       "      <td>0.263557</td>\n",
       "      <td>0.159939</td>\n",
       "      <td>0.369097</td>\n",
       "      <td>0.181758</td>\n",
       "      <td>0.222419</td>\n",
       "      <td>0.617251</td>\n",
       "      <td>0.193762</td>\n",
       "      <td>0.356131</td>\n",
       "      <td>0.370024</td>\n",
       "      <td>M</td>\n",
       "    </tr>\n",
       "    <tr>\n",
       "      <td>...</td>\n",
       "      <td>...</td>\n",
       "      <td>...</td>\n",
       "      <td>...</td>\n",
       "      <td>...</td>\n",
       "      <td>...</td>\n",
       "      <td>...</td>\n",
       "      <td>...</td>\n",
       "      <td>...</td>\n",
       "      <td>...</td>\n",
       "      <td>...</td>\n",
       "      <td>...</td>\n",
       "      <td>...</td>\n",
       "      <td>...</td>\n",
       "      <td>...</td>\n",
       "      <td>...</td>\n",
       "      <td>...</td>\n",
       "    </tr>\n",
       "    <tr>\n",
       "      <td>564</td>\n",
       "      <td>0.766987</td>\n",
       "      <td>0.570010</td>\n",
       "      <td>0.679315</td>\n",
       "      <td>0.335553</td>\n",
       "      <td>0.567763</td>\n",
       "      <td>0.577073</td>\n",
       "      <td>0.409328</td>\n",
       "      <td>0.257114</td>\n",
       "      <td>0.330871</td>\n",
       "      <td>0.213516</td>\n",
       "      <td>0.141102</td>\n",
       "      <td>0.633423</td>\n",
       "      <td>0.199716</td>\n",
       "      <td>0.310334</td>\n",
       "      <td>0.342892</td>\n",
       "      <td>M</td>\n",
       "    </tr>\n",
       "    <tr>\n",
       "      <td>565</td>\n",
       "      <td>0.716115</td>\n",
       "      <td>0.719196</td>\n",
       "      <td>0.598531</td>\n",
       "      <td>0.299363</td>\n",
       "      <td>0.576316</td>\n",
       "      <td>0.567837</td>\n",
       "      <td>0.266446</td>\n",
       "      <td>0.504197</td>\n",
       "      <td>0.185320</td>\n",
       "      <td>0.178951</td>\n",
       "      <td>0.240405</td>\n",
       "      <td>0.523810</td>\n",
       "      <td>0.181664</td>\n",
       "      <td>0.387466</td>\n",
       "      <td>0.319855</td>\n",
       "      <td>M</td>\n",
       "    </tr>\n",
       "    <tr>\n",
       "      <td>566</td>\n",
       "      <td>0.590537</td>\n",
       "      <td>0.714868</td>\n",
       "      <td>0.517442</td>\n",
       "      <td>0.296178</td>\n",
       "      <td>0.523026</td>\n",
       "      <td>0.579639</td>\n",
       "      <td>0.158858</td>\n",
       "      <td>0.220061</td>\n",
       "      <td>0.189624</td>\n",
       "      <td>0.275554</td>\n",
       "      <td>0.166941</td>\n",
       "      <td>0.511680</td>\n",
       "      <td>0.292439</td>\n",
       "      <td>0.334137</td>\n",
       "      <td>0.376867</td>\n",
       "      <td>M</td>\n",
       "    </tr>\n",
       "    <tr>\n",
       "      <td>567</td>\n",
       "      <td>0.732835</td>\n",
       "      <td>0.746690</td>\n",
       "      <td>0.720930</td>\n",
       "      <td>0.801969</td>\n",
       "      <td>0.788487</td>\n",
       "      <td>0.720033</td>\n",
       "      <td>0.252698</td>\n",
       "      <td>0.326510</td>\n",
       "      <td>0.209509</td>\n",
       "      <td>0.454801</td>\n",
       "      <td>0.294364</td>\n",
       "      <td>0.741240</td>\n",
       "      <td>0.820510</td>\n",
       "      <td>0.615697</td>\n",
       "      <td>0.597590</td>\n",
       "      <td>M</td>\n",
       "    </tr>\n",
       "    <tr>\n",
       "      <td>568</td>\n",
       "      <td>0.276058</td>\n",
       "      <td>0.624745</td>\n",
       "      <td>0.322093</td>\n",
       "      <td>0.126288</td>\n",
       "      <td>0.522039</td>\n",
       "      <td>0.603859</td>\n",
       "      <td>0.134250</td>\n",
       "      <td>0.292323</td>\n",
       "      <td>0.230935</td>\n",
       "      <td>0.034417</td>\n",
       "      <td>0.338949</td>\n",
       "      <td>0.404133</td>\n",
       "      <td>0.060907</td>\n",
       "      <td>0.432510</td>\n",
       "      <td>0.339229</td>\n",
       "      <td>B</td>\n",
       "    </tr>\n",
       "  </tbody>\n",
       "</table>\n",
       "<p>569 rows × 16 columns</p>\n",
       "</div>"
      ],
      "text/plain": [
       "     radius_mean  texture_mean  smoothness_mean  compactness_mean  \\\n",
       "0       0.639986      0.264257         0.724602          0.803706   \n",
       "1       0.731768      0.452393         0.518605          0.227678   \n",
       "2       0.700462      0.540988         0.670747          0.462942   \n",
       "3       0.406261      0.518839         0.872093          0.821946   \n",
       "4       0.721807      0.365071         0.613831          0.384482   \n",
       "..           ...           ...              ...               ...   \n",
       "564     0.766987      0.570010         0.679315          0.335553   \n",
       "565     0.716115      0.719196         0.598531          0.299363   \n",
       "566     0.590537      0.714868         0.517442          0.296178   \n",
       "567     0.732835      0.746690         0.720930          0.801969   \n",
       "568     0.276058      0.624745         0.322093          0.126288   \n",
       "\n",
       "     symmetry_mean  fractal_dimension_mean  radius_se  texture_se  \\\n",
       "0         0.795724                0.807779   0.381135    0.185322   \n",
       "1         0.596053                0.581589   0.189175    0.150235   \n",
       "2         0.680592                0.615661   0.259520    0.161085   \n",
       "3         0.854276                1.000000   0.172503    0.236643   \n",
       "4         0.595066                0.603756   0.263557    0.159939   \n",
       "..             ...                     ...        ...         ...   \n",
       "564       0.567763                0.577073   0.409328    0.257114   \n",
       "565       0.576316                0.567837   0.266446    0.504197   \n",
       "566       0.523026                0.579639   0.158858    0.220061   \n",
       "567       0.788487                0.720033   0.252698    0.326510   \n",
       "568       0.522039                0.603859   0.134250    0.292323   \n",
       "\n",
       "     smoothness_se  compactness_se  symmetry_se  smoothness_worst  \\\n",
       "0         0.205557        0.362186     0.380367          0.728661   \n",
       "1         0.167845        0.096603     0.175934          0.556155   \n",
       "2         0.197559        0.295864     0.284991          0.648697   \n",
       "3         0.292644        0.550812     0.755288          0.942498   \n",
       "4         0.369097        0.181758     0.222419          0.617251   \n",
       "..             ...             ...          ...               ...   \n",
       "564       0.330871        0.213516     0.141102          0.633423   \n",
       "565       0.185320        0.178951     0.240405          0.523810   \n",
       "566       0.189624        0.275554     0.166941          0.511680   \n",
       "567       0.209509        0.454801     0.294364          0.741240   \n",
       "568       0.230935        0.034417     0.338949          0.404133   \n",
       "\n",
       "     compactness_worst  symmetry_worst  fractal_dimension_worst diagnosis  \n",
       "0             0.629112        0.693130                 0.573012         M  \n",
       "1             0.176371        0.414281                 0.429012         M  \n",
       "2             0.401229        0.544290                 0.422072         M  \n",
       "3             0.818809        1.000000                 0.833735         M  \n",
       "4             0.193762        0.356131                 0.370024         M  \n",
       "..                 ...             ...                      ...       ...  \n",
       "564           0.199716        0.310334                 0.342892         M  \n",
       "565           0.181664        0.387466                 0.319855         M  \n",
       "566           0.292439        0.334137                 0.376867         M  \n",
       "567           0.820510        0.615697                 0.597590         M  \n",
       "568           0.060907        0.432510                 0.339229         B  \n",
       "\n",
       "[569 rows x 16 columns]"
      ]
     },
     "execution_count": 12,
     "metadata": {},
     "output_type": "execute_result"
    }
   ],
   "source": [
    "data"
   ]
  },
  {
   "cell_type": "markdown",
   "metadata": {},
   "source": [
    "### 6. Convert the categorical target variables to numerical "
   ]
  },
  {
   "cell_type": "code",
   "execution_count": 13,
   "metadata": {},
   "outputs": [],
   "source": [
    "my_dict = {\n",
    "    \"diagnosis\":{\n",
    "        \"M\":1,\n",
    "        \"B\":0\n",
    "    }\n",
    "}\n",
    "\n",
    "data = data.replace(my_dict)"
   ]
  },
  {
   "cell_type": "markdown",
   "metadata": {},
   "source": [
    "# Building predictive model"
   ]
  },
  {
   "cell_type": "markdown",
   "metadata": {},
   "source": [
    "### 1. Logistic Regression"
   ]
  },
  {
   "cell_type": "code",
   "execution_count": 14,
   "metadata": {},
   "outputs": [],
   "source": [
    "from sklearn.linear_model import LogisticRegression\n",
    "from sklearn.model_selection import cross_val_predict\n",
    "from sklearn.metrics import confusion_matrix"
   ]
  },
  {
   "cell_type": "code",
   "execution_count": 15,
   "metadata": {},
   "outputs": [],
   "source": [
    "lr = LogisticRegression(solver='lbfgs')\n",
    "\n",
    "features = data.drop(\"diagnosis\",axis=1).copy()\n",
    "target = data[\"diagnosis\"].copy()\n",
    "\n",
    "prediction = cross_val_predict(lr,features,target,cv=5)\n",
    "prediction = pd.Series(prediction)\n",
    "prediction = prediction.rename(\"prediction\")"
   ]
  },
  {
   "cell_type": "code",
   "execution_count": 16,
   "metadata": {},
   "outputs": [],
   "source": [
    "logistic_pred = pd.crosstab(target,prediction)"
   ]
  },
  {
   "cell_type": "markdown",
   "metadata": {},
   "source": [
    "### 2. Random Forest"
   ]
  },
  {
   "cell_type": "code",
   "execution_count": 17,
   "metadata": {},
   "outputs": [],
   "source": [
    "from sklearn.ensemble import RandomForestClassifier\n",
    "from sklearn.metrics import accuracy_score"
   ]
  },
  {
   "cell_type": "markdown",
   "metadata": {},
   "source": [
    "<font size=3> Find the best parameter for each tree <font>"
   ]
  },
  {
   "cell_type": "code",
   "execution_count": 18,
   "metadata": {},
   "outputs": [
    {
     "data": {
      "text/plain": [
       "[<matplotlib.lines.Line2D at 0x25e8475b4c8>]"
      ]
     },
     "execution_count": 18,
     "metadata": {},
     "output_type": "execute_result"
    },
    {
     "data": {
      "image/png": "[encoded data removed]",
      "text/plain": [
       "<Figure size 432x288 with 1 Axes>"
      ]
     },
     "metadata": {},
     "output_type": "display_data"
    }
   ],
   "source": [
    "from sklearn.tree import DecisionTreeClassifier\n",
    "\n",
    "x = [n for n in range(2,20)]\n",
    "y = []\n",
    "for i in range(2,20):\n",
    "    tf = DecisionTreeClassifier(max_depth = i)\n",
    "    tf.fit(features,target)\n",
    "    pred = tf.predict(features)\n",
    "    acc = accuracy_score(target,pred)\n",
    "    y.append(acc)\n",
    "    \n",
    "plt.plot(x,y)"
   ]
  },
  {
   "cell_type": "code",
   "execution_count": 19,
   "metadata": {},
   "outputs": [
    {
     "data": {
      "text/plain": [
       "[<matplotlib.lines.Line2D at 0x25e84843188>]"
      ]
     },
     "execution_count": 19,
     "metadata": {},
     "output_type": "execute_result"
    },
    {
     "data": {
      "image/png": "[encoded data removed]",
      "text/plain": [
       "<Figure size 432x288 with 1 Axes>"
      ]
     },
     "metadata": {},
     "output_type": "display_data"
    }
   ],
   "source": [
    "x = [n for n in range(2,20)]\n",
    "y = []\n",
    "for i in range(2,20):\n",
    "    tf = DecisionTreeClassifier(min_samples_split = i)\n",
    "    tf.fit(features,target)\n",
    "    pred = tf.predict(features)\n",
    "    acc = accuracy_score(target,pred)\n",
    "    y.append(acc)\n",
    "    \n",
    "plt.plot(x,y)"
   ]
  },
  {
   "cell_type": "code",
   "execution_count": 20,
   "metadata": {},
   "outputs": [],
   "source": [
    "clf = RandomForestClassifier(n_estimators=10,random_state=1,min_samples_leaf=2)\n",
    "prediction = cross_val_predict(clf,features,target,cv=5)\n",
    "prediction = pd.Series(prediction)\n",
    "prediction = prediction.rename(\"prediction\")\n",
    "forest_pred = pd.crosstab(target,prediction)"
   ]
  },
  {
   "cell_type": "code",
   "execution_count": 21,
   "metadata": {},
   "outputs": [
    {
     "data": {
      "text/html": [
       "<div>\n",
       "<style scoped>\n",
       "    .dataframe tbody tr th:only-of-type {\n",
       "        vertical-align: middle;\n",
       "    }\n",
       "\n",
       "    .dataframe tbody tr th {\n",
       "        vertical-align: top;\n",
       "    }\n",
       "\n",
       "    .dataframe thead th {\n",
       "        text-align: right;\n",
       "    }\n",
       "</style>\n",
       "<table border=\"1\" class=\"dataframe\">\n",
       "  <thead>\n",
       "    <tr style=\"text-align: right;\">\n",
       "      <th>prediction</th>\n",
       "      <th>0</th>\n",
       "      <th>1</th>\n",
       "    </tr>\n",
       "    <tr>\n",
       "      <th>diagnosis</th>\n",
       "      <th></th>\n",
       "      <th></th>\n",
       "    </tr>\n",
       "  </thead>\n",
       "  <tbody>\n",
       "    <tr>\n",
       "      <td>0</td>\n",
       "      <td>351</td>\n",
       "      <td>6</td>\n",
       "    </tr>\n",
       "    <tr>\n",
       "      <td>1</td>\n",
       "      <td>37</td>\n",
       "      <td>175</td>\n",
       "    </tr>\n",
       "  </tbody>\n",
       "</table>\n",
       "</div>"
      ],
      "text/plain": [
       "prediction    0    1\n",
       "diagnosis           \n",
       "0           351    6\n",
       "1            37  175"
      ]
     },
     "execution_count": 21,
     "metadata": {},
     "output_type": "execute_result"
    }
   ],
   "source": [
    "logistic_pred"
   ]
  },
  {
   "cell_type": "code",
   "execution_count": 22,
   "metadata": {},
   "outputs": [
    {
     "data": {
      "text/html": [
       "<div>\n",
       "<style scoped>\n",
       "    .dataframe tbody tr th:only-of-type {\n",
       "        vertical-align: middle;\n",
       "    }\n",
       "\n",
       "    .dataframe tbody tr th {\n",
       "        vertical-align: top;\n",
       "    }\n",
       "\n",
       "    .dataframe thead th {\n",
       "        text-align: right;\n",
       "    }\n",
       "</style>\n",
       "<table border=\"1\" class=\"dataframe\">\n",
       "  <thead>\n",
       "    <tr style=\"text-align: right;\">\n",
       "      <th>prediction</th>\n",
       "      <th>0</th>\n",
       "      <th>1</th>\n",
       "    </tr>\n",
       "    <tr>\n",
       "      <th>diagnosis</th>\n",
       "      <th></th>\n",
       "      <th></th>\n",
       "    </tr>\n",
       "  </thead>\n",
       "  <tbody>\n",
       "    <tr>\n",
       "      <td>0</td>\n",
       "      <td>341</td>\n",
       "      <td>16</td>\n",
       "    </tr>\n",
       "    <tr>\n",
       "      <td>1</td>\n",
       "      <td>16</td>\n",
       "      <td>196</td>\n",
       "    </tr>\n",
       "  </tbody>\n",
       "</table>\n",
       "</div>"
      ],
      "text/plain": [
       "prediction    0    1\n",
       "diagnosis           \n",
       "0           341   16\n",
       "1            16  196"
      ]
     },
     "execution_count": 22,
     "metadata": {},
     "output_type": "execute_result"
    }
   ],
   "source": [
    "forest_pred"
   ]
  },
  {
   "cell_type": "markdown",
   "metadata": {},
   "source": [
    "<font size=3> From the confusion matrix generated above, random forest is the better choice of predicting whether a patient has malignant or benign breast cancer. \n",
    "\n",
    "This is because the random forest model has lower false negative and higher true positive (malignant) rate, which is better because at the end, it is better to have correctly diagnosed malignant tumour. </font> "
   ]
  }
 ],
 "metadata": {
  "kernelspec": {
   "display_name": "Python 3",
   "language": "python",
   "name": "python3"
  },
  "language_info": {
   "codemirror_mode": {
    "name": "ipython",
    "version": 3
   },
   "file_extension": ".py",
   "mimetype": "text/x-python",
   "name": "python",
   "nbconvert_exporter": "python",
   "pygments_lexer": "ipython3",
   "version": "3.7.4"
  }
 },
 "nbformat": 4,
 "nbformat_minor": 2
}
