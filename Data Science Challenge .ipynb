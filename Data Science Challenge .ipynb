{
 "cells": [
  {
   "cell_type": "markdown",
   "metadata": {},
   "source": [
    "## Understanding the Dataset "
   ]
  },
  {
   "cell_type": "code",
   "execution_count": 1,
   "metadata": {},
   "outputs": [],
   "source": [
    "import pandas as pd "
   ]
  },
  {
   "cell_type": "code",
   "execution_count": 2,
   "metadata": {},
   "outputs": [],
   "source": [
    "trend = pd.read_csv(\"trends1.csv\")\n",
    "prediction = pd.read_csv(\"predictions.csv\")"
   ]
  },
  {
   "cell_type": "code",
   "execution_count": 3,
   "metadata": {},
   "outputs": [
    {
     "data": {
      "text/html": [
       "<div>\n",
       "<style scoped>\n",
       "    .dataframe tbody tr th:only-of-type {\n",
       "        vertical-align: middle;\n",
       "    }\n",
       "\n",
       "    .dataframe tbody tr th {\n",
       "        vertical-align: top;\n",
       "    }\n",
       "\n",
       "    .dataframe thead th {\n",
       "        text-align: right;\n",
       "    }\n",
       "</style>\n",
       "<table border=\"1\" class=\"dataframe\">\n",
       "  <thead>\n",
       "    <tr style=\"text-align: right;\">\n",
       "      <th></th>\n",
       "      <th>Unnamed: 0</th>\n",
       "      <th>top 1</th>\n",
       "      <th>top 2</th>\n",
       "      <th>top 3</th>\n",
       "      <th>date</th>\n",
       "    </tr>\n",
       "  </thead>\n",
       "  <tbody>\n",
       "    <tr>\n",
       "      <td>0</td>\n",
       "      <td>0</td>\n",
       "      <td>4</td>\n",
       "      <td>14</td>\n",
       "      <td>14</td>\n",
       "      <td>2012-10-07</td>\n",
       "    </tr>\n",
       "    <tr>\n",
       "      <td>1</td>\n",
       "      <td>1</td>\n",
       "      <td>7</td>\n",
       "      <td>15</td>\n",
       "      <td>18</td>\n",
       "      <td>2012-10-14</td>\n",
       "    </tr>\n",
       "    <tr>\n",
       "      <td>2</td>\n",
       "      <td>2</td>\n",
       "      <td>5</td>\n",
       "      <td>12</td>\n",
       "      <td>15</td>\n",
       "      <td>2012-10-21</td>\n",
       "    </tr>\n",
       "    <tr>\n",
       "      <td>3</td>\n",
       "      <td>3</td>\n",
       "      <td>5</td>\n",
       "      <td>15</td>\n",
       "      <td>12</td>\n",
       "      <td>2012-10-28</td>\n",
       "    </tr>\n",
       "    <tr>\n",
       "      <td>4</td>\n",
       "      <td>4</td>\n",
       "      <td>4</td>\n",
       "      <td>12</td>\n",
       "      <td>12</td>\n",
       "      <td>2012-11-04</td>\n",
       "    </tr>\n",
       "    <tr>\n",
       "      <td>...</td>\n",
       "      <td>...</td>\n",
       "      <td>...</td>\n",
       "      <td>...</td>\n",
       "      <td>...</td>\n",
       "      <td>...</td>\n",
       "    </tr>\n",
       "    <tr>\n",
       "      <td>256</td>\n",
       "      <td>256</td>\n",
       "      <td>18</td>\n",
       "      <td>72</td>\n",
       "      <td>35</td>\n",
       "      <td>2017-09-03</td>\n",
       "    </tr>\n",
       "    <tr>\n",
       "      <td>257</td>\n",
       "      <td>257</td>\n",
       "      <td>17</td>\n",
       "      <td>67</td>\n",
       "      <td>37</td>\n",
       "      <td>2017-09-10</td>\n",
       "    </tr>\n",
       "    <tr>\n",
       "      <td>258</td>\n",
       "      <td>258</td>\n",
       "      <td>18</td>\n",
       "      <td>66</td>\n",
       "      <td>32</td>\n",
       "      <td>2017-09-17</td>\n",
       "    </tr>\n",
       "    <tr>\n",
       "      <td>259</td>\n",
       "      <td>259</td>\n",
       "      <td>19</td>\n",
       "      <td>62</td>\n",
       "      <td>31</td>\n",
       "      <td>2017-09-24</td>\n",
       "    </tr>\n",
       "    <tr>\n",
       "      <td>260</td>\n",
       "      <td>260</td>\n",
       "      <td>20</td>\n",
       "      <td>78</td>\n",
       "      <td>27</td>\n",
       "      <td>2017-10-01</td>\n",
       "    </tr>\n",
       "  </tbody>\n",
       "</table>\n",
       "<p>261 rows × 5 columns</p>\n",
       "</div>"
      ],
      "text/plain": [
       "     Unnamed: 0  top 1  top 2  top 3        date\n",
       "0             0      4     14     14  2012-10-07\n",
       "1             1      7     15     18  2012-10-14\n",
       "2             2      5     12     15  2012-10-21\n",
       "3             3      5     15     12  2012-10-28\n",
       "4             4      4     12     12  2012-11-04\n",
       "..          ...    ...    ...    ...         ...\n",
       "256         256     18     72     35  2017-09-03\n",
       "257         257     17     67     37  2017-09-10\n",
       "258         258     18     66     32  2017-09-17\n",
       "259         259     19     62     31  2017-09-24\n",
       "260         260     20     78     27  2017-10-01\n",
       "\n",
       "[261 rows x 5 columns]"
      ]
     },
     "execution_count": 3,
     "metadata": {},
     "output_type": "execute_result"
    }
   ],
   "source": [
    "trend"
   ]
  },
  {
   "cell_type": "markdown",
   "metadata": {},
   "source": [
    "### Data Cleaning"
   ]
  },
  {
   "cell_type": "markdown",
   "metadata": {},
   "source": [
    "1. Drop unwanted column"
   ]
  },
  {
   "cell_type": "code",
   "execution_count": 4,
   "metadata": {},
   "outputs": [],
   "source": [
    "trend.drop([\"Unnamed: 0\"],axis=1,inplace=True)"
   ]
  },
  {
   "cell_type": "code",
   "execution_count": 5,
   "metadata": {},
   "outputs": [
    {
     "data": {
      "text/html": [
       "<div>\n",
       "<style scoped>\n",
       "    .dataframe tbody tr th:only-of-type {\n",
       "        vertical-align: middle;\n",
       "    }\n",
       "\n",
       "    .dataframe tbody tr th {\n",
       "        vertical-align: top;\n",
       "    }\n",
       "\n",
       "    .dataframe thead th {\n",
       "        text-align: right;\n",
       "    }\n",
       "</style>\n",
       "<table border=\"1\" class=\"dataframe\">\n",
       "  <thead>\n",
       "    <tr style=\"text-align: right;\">\n",
       "      <th></th>\n",
       "      <th>top 1</th>\n",
       "      <th>top 2</th>\n",
       "      <th>top 3</th>\n",
       "      <th>date</th>\n",
       "    </tr>\n",
       "  </thead>\n",
       "  <tbody>\n",
       "    <tr>\n",
       "      <td>0</td>\n",
       "      <td>4</td>\n",
       "      <td>14</td>\n",
       "      <td>14</td>\n",
       "      <td>2012-10-07</td>\n",
       "    </tr>\n",
       "    <tr>\n",
       "      <td>1</td>\n",
       "      <td>7</td>\n",
       "      <td>15</td>\n",
       "      <td>18</td>\n",
       "      <td>2012-10-14</td>\n",
       "    </tr>\n",
       "    <tr>\n",
       "      <td>2</td>\n",
       "      <td>5</td>\n",
       "      <td>12</td>\n",
       "      <td>15</td>\n",
       "      <td>2012-10-21</td>\n",
       "    </tr>\n",
       "    <tr>\n",
       "      <td>3</td>\n",
       "      <td>5</td>\n",
       "      <td>15</td>\n",
       "      <td>12</td>\n",
       "      <td>2012-10-28</td>\n",
       "    </tr>\n",
       "    <tr>\n",
       "      <td>4</td>\n",
       "      <td>4</td>\n",
       "      <td>12</td>\n",
       "      <td>12</td>\n",
       "      <td>2012-11-04</td>\n",
       "    </tr>\n",
       "    <tr>\n",
       "      <td>...</td>\n",
       "      <td>...</td>\n",
       "      <td>...</td>\n",
       "      <td>...</td>\n",
       "      <td>...</td>\n",
       "    </tr>\n",
       "    <tr>\n",
       "      <td>256</td>\n",
       "      <td>18</td>\n",
       "      <td>72</td>\n",
       "      <td>35</td>\n",
       "      <td>2017-09-03</td>\n",
       "    </tr>\n",
       "    <tr>\n",
       "      <td>257</td>\n",
       "      <td>17</td>\n",
       "      <td>67</td>\n",
       "      <td>37</td>\n",
       "      <td>2017-09-10</td>\n",
       "    </tr>\n",
       "    <tr>\n",
       "      <td>258</td>\n",
       "      <td>18</td>\n",
       "      <td>66</td>\n",
       "      <td>32</td>\n",
       "      <td>2017-09-17</td>\n",
       "    </tr>\n",
       "    <tr>\n",
       "      <td>259</td>\n",
       "      <td>19</td>\n",
       "      <td>62</td>\n",
       "      <td>31</td>\n",
       "      <td>2017-09-24</td>\n",
       "    </tr>\n",
       "    <tr>\n",
       "      <td>260</td>\n",
       "      <td>20</td>\n",
       "      <td>78</td>\n",
       "      <td>27</td>\n",
       "      <td>2017-10-01</td>\n",
       "    </tr>\n",
       "  </tbody>\n",
       "</table>\n",
       "<p>261 rows × 4 columns</p>\n",
       "</div>"
      ],
      "text/plain": [
       "     top 1  top 2  top 3        date\n",
       "0        4     14     14  2012-10-07\n",
       "1        7     15     18  2012-10-14\n",
       "2        5     12     15  2012-10-21\n",
       "3        5     15     12  2012-10-28\n",
       "4        4     12     12  2012-11-04\n",
       "..     ...    ...    ...         ...\n",
       "256     18     72     35  2017-09-03\n",
       "257     17     67     37  2017-09-10\n",
       "258     18     66     32  2017-09-17\n",
       "259     19     62     31  2017-09-24\n",
       "260     20     78     27  2017-10-01\n",
       "\n",
       "[261 rows x 4 columns]"
      ]
     },
     "execution_count": 5,
     "metadata": {},
     "output_type": "execute_result"
    }
   ],
   "source": [
    "trend"
   ]
  },
  {
   "cell_type": "markdown",
   "metadata": {},
   "source": [
    "2. Check column data types"
   ]
  },
  {
   "cell_type": "code",
   "execution_count": 6,
   "metadata": {},
   "outputs": [
    {
     "data": {
      "text/plain": [
       "top 1     int64\n",
       "top 2     int64\n",
       "top 3     int64\n",
       "date     object\n",
       "dtype: object"
      ]
     },
     "execution_count": 6,
     "metadata": {},
     "output_type": "execute_result"
    }
   ],
   "source": [
    "trend.dtypes"
   ]
  },
  {
   "cell_type": "code",
   "execution_count": 7,
   "metadata": {},
   "outputs": [],
   "source": [
    "import datetime as dt\n",
    "#Convert string date to datetime format \n",
    "def toDate(strDate):\n",
    "    return dt.datetime.strptime(strDate,\"%Y-%m-%d\")\n",
    "\n",
    "def getYear(strDate):\n",
    "    return dt.datetime.strptime(strDate,\"%Y-%m-%d\").year\n",
    "\n",
    "def getMonth(strDate):\n",
    "    return dt.datetime.strptime(strDate,\"%Y-%m-%d\").month\n",
    "\n",
    "trend[\"year\"] = trend[\"date\"].apply(getYear)\n",
    "trend[\"date\"] = trend[\"date\"].apply(toDate)"
   ]
  },
  {
   "cell_type": "code",
   "execution_count": 8,
   "metadata": {},
   "outputs": [
    {
     "data": {
      "text/plain": [
       "top 1             int64\n",
       "top 2             int64\n",
       "top 3             int64\n",
       "date     datetime64[ns]\n",
       "year              int64\n",
       "dtype: object"
      ]
     },
     "execution_count": 8,
     "metadata": {},
     "output_type": "execute_result"
    }
   ],
   "source": [
    "trend.dtypes"
   ]
  },
  {
   "cell_type": "markdown",
   "metadata": {},
   "source": [
    "### Data Analysis "
   ]
  },
  {
   "cell_type": "code",
   "execution_count": 9,
   "metadata": {},
   "outputs": [],
   "source": [
    "import matplotlib.pyplot as plt \n",
    "%matplotlib inline "
   ]
  },
  {
   "cell_type": "code",
   "execution_count": 10,
   "metadata": {},
   "outputs": [
    {
     "name": "stderr",
     "output_type": "stream",
     "text": [
      "C:\\Users\\leong\\Anaconda3\\lib\\site-packages\\pandas\\plotting\\_matplotlib\\converter.py:103: FutureWarning: Using an implicitly registered datetime converter for a matplotlib plotting method. The converter was registered by pandas on import. Future versions of pandas will require you to explicitly register matplotlib converters.\n",
      "\n",
      "To register the converters:\n",
      "\t>>> from pandas.plotting import register_matplotlib_converters\n",
      "\t>>> register_matplotlib_converters()\n",
      "  warnings.warn(msg, FutureWarning)\n"
     ]
    },
    {
     "data": {
      "image/png": "[encoded data removed]",
      "text/plain": [
       "<Figure size 648x648 with 3 Axes>"
      ]
     },
     "metadata": {
      "needs_background": "light"
     },
     "output_type": "display_data"
    }
   ],
   "source": [
    "fig = plt.figure(figsize=(9,9))\n",
    "ax1 = fig.add_subplot(3,1,1)\n",
    "ax2 = fig.add_subplot(3,1,2)\n",
    "ax3 = fig.add_subplot(3,1,3)\n",
    "\n",
    "ax1.plot(trend[\"date\"],trend[\"top 1\"],label=\"top 1\")\n",
    "ax2.plot(trend[\"date\"],trend[\"top 2\"],label=\"top 2\")\n",
    "ax3.plot(trend[\"date\"],trend[\"top 3\"],label=\"top 3\")\n",
    "\n",
    "plt.xlabel(\"Year\")\n",
    "plt.ylabel(\"Popularity\")\n",
    "plt.show()"
   ]
  },
  {
   "cell_type": "markdown",
   "metadata": {},
   "source": [
    "### Quantify performance of last year"
   ]
  },
  {
   "cell_type": "code",
   "execution_count": 11,
   "metadata": {},
   "outputs": [],
   "source": [
    "last_year_trend = trend[trend[\"year\"] == 2017]"
   ]
  },
  {
   "cell_type": "code",
   "execution_count": 12,
   "metadata": {},
   "outputs": [
    {
     "data": {
      "image/png": "[encoded data removed]",
      "text/plain": [
       "<Figure size 648x648 with 3 Axes>"
      ]
     },
     "metadata": {
      "needs_background": "light"
     },
     "output_type": "display_data"
    }
   ],
   "source": [
    "fig = plt.figure(figsize=(9,9))\n",
    "ax1 = fig.add_subplot(3,1,1)\n",
    "ax2 = fig.add_subplot(3,1,2)\n",
    "ax3 = fig.add_subplot(3,1,3)\n",
    "\n",
    "ax1.plot(last_year_trend[\"date\"],last_year_trend[\"top 1\"],label=\"top 1\")\n",
    "ax2.plot(last_year_trend[\"date\"],last_year_trend[\"top 2\"],label=\"top 2\")\n",
    "ax3.plot(last_year_trend[\"date\"],last_year_trend[\"top 3\"],label=\"top 3\")\n",
    "\n",
    "plt.xlabel(\"Date\")\n",
    "plt.ylabel(\"Popularity\")\n",
    "plt.show()"
   ]
  },
  {
   "cell_type": "markdown",
   "metadata": {},
   "source": [
    "## Prediction.csv"
   ]
  },
  {
   "cell_type": "code",
   "execution_count": 13,
   "metadata": {},
   "outputs": [
    {
     "data": {
      "text/html": [
       "<div>\n",
       "<style scoped>\n",
       "    .dataframe tbody tr th:only-of-type {\n",
       "        vertical-align: middle;\n",
       "    }\n",
       "\n",
       "    .dataframe tbody tr th {\n",
       "        vertical-align: top;\n",
       "    }\n",
       "\n",
       "    .dataframe thead th {\n",
       "        text-align: right;\n",
       "    }\n",
       "</style>\n",
       "<table border=\"1\" class=\"dataframe\">\n",
       "  <thead>\n",
       "    <tr style=\"text-align: right;\">\n",
       "      <th></th>\n",
       "      <th>Unnamed: 0</th>\n",
       "      <th>date</th>\n",
       "      <th>fit top 1</th>\n",
       "      <th>fit top 2</th>\n",
       "      <th>fit top 3</th>\n",
       "      <th>fit2 top 3</th>\n",
       "      <th>fit3 top 3</th>\n",
       "      <th>fit2 top 2</th>\n",
       "      <th>fit3 top 2</th>\n",
       "      <th>fit2 top 1</th>\n",
       "      <th>fit3 top 1</th>\n",
       "    </tr>\n",
       "  </thead>\n",
       "  <tbody>\n",
       "    <tr>\n",
       "      <td>0</td>\n",
       "      <td>0</td>\n",
       "      <td>2012-10-07</td>\n",
       "      <td>6.464020</td>\n",
       "      <td>14.918372</td>\n",
       "      <td>12.852700</td>\n",
       "      <td>17.560586</td>\n",
       "      <td>16.691433</td>\n",
       "      <td>21.967562</td>\n",
       "      <td>19.348604</td>\n",
       "      <td>6.676299</td>\n",
       "      <td>6.814028</td>\n",
       "    </tr>\n",
       "    <tr>\n",
       "      <td>1</td>\n",
       "      <td>1</td>\n",
       "      <td>2012-10-14</td>\n",
       "      <td>6.405044</td>\n",
       "      <td>14.879459</td>\n",
       "      <td>13.460605</td>\n",
       "      <td>17.584433</td>\n",
       "      <td>16.864402</td>\n",
       "      <td>20.428943</td>\n",
       "      <td>18.149665</td>\n",
       "      <td>6.553469</td>\n",
       "      <td>6.678460</td>\n",
       "    </tr>\n",
       "    <tr>\n",
       "      <td>2</td>\n",
       "      <td>2</td>\n",
       "      <td>2012-10-21</td>\n",
       "      <td>5.594880</td>\n",
       "      <td>12.766397</td>\n",
       "      <td>12.500809</td>\n",
       "      <td>16.287381</td>\n",
       "      <td>15.672930</td>\n",
       "      <td>17.533925</td>\n",
       "      <td>15.621429</td>\n",
       "      <td>5.685904</td>\n",
       "      <td>5.801919</td>\n",
       "    </tr>\n",
       "    <tr>\n",
       "      <td>3</td>\n",
       "      <td>3</td>\n",
       "      <td>2012-10-28</td>\n",
       "      <td>4.556118</td>\n",
       "      <td>9.883558</td>\n",
       "      <td>11.040882</td>\n",
       "      <td>14.667064</td>\n",
       "      <td>14.128378</td>\n",
       "      <td>14.478612</td>\n",
       "      <td>13.020325</td>\n",
       "      <td>4.598339</td>\n",
       "      <td>4.706192</td>\n",
       "    </tr>\n",
       "    <tr>\n",
       "      <td>4</td>\n",
       "      <td>4</td>\n",
       "      <td>2012-11-04</td>\n",
       "      <td>4.203193</td>\n",
       "      <td>8.345088</td>\n",
       "      <td>10.553082</td>\n",
       "      <td>14.029395</td>\n",
       "      <td>13.566908</td>\n",
       "      <td>12.894532</td>\n",
       "      <td>11.970428</td>\n",
       "      <td>4.200978</td>\n",
       "      <td>4.297650</td>\n",
       "    </tr>\n",
       "    <tr>\n",
       "      <td>...</td>\n",
       "      <td>...</td>\n",
       "      <td>...</td>\n",
       "      <td>...</td>\n",
       "      <td>...</td>\n",
       "      <td>...</td>\n",
       "      <td>...</td>\n",
       "      <td>...</td>\n",
       "      <td>...</td>\n",
       "      <td>...</td>\n",
       "      <td>...</td>\n",
       "      <td>...</td>\n",
       "    </tr>\n",
       "    <tr>\n",
       "      <td>621</td>\n",
       "      <td>621</td>\n",
       "      <td>2018-09-27</td>\n",
       "      <td>16.588328</td>\n",
       "      <td>98.782168</td>\n",
       "      <td>36.344867</td>\n",
       "      <td>36.316258</td>\n",
       "      <td>36.037766</td>\n",
       "      <td>73.258258</td>\n",
       "      <td>64.549945</td>\n",
       "      <td>17.507205</td>\n",
       "      <td>17.533665</td>\n",
       "    </tr>\n",
       "    <tr>\n",
       "      <td>622</td>\n",
       "      <td>622</td>\n",
       "      <td>2018-09-28</td>\n",
       "      <td>16.655365</td>\n",
       "      <td>98.884051</td>\n",
       "      <td>36.503322</td>\n",
       "      <td>36.415425</td>\n",
       "      <td>36.139121</td>\n",
       "      <td>73.103604</td>\n",
       "      <td>64.319097</td>\n",
       "      <td>17.567572</td>\n",
       "      <td>17.594394</td>\n",
       "    </tr>\n",
       "    <tr>\n",
       "      <td>623</td>\n",
       "      <td>623</td>\n",
       "      <td>2018-09-29</td>\n",
       "      <td>16.724295</td>\n",
       "      <td>99.019655</td>\n",
       "      <td>36.689969</td>\n",
       "      <td>36.538825</td>\n",
       "      <td>36.265359</td>\n",
       "      <td>72.967858</td>\n",
       "      <td>64.104769</td>\n",
       "      <td>17.629760</td>\n",
       "      <td>17.656862</td>\n",
       "    </tr>\n",
       "    <tr>\n",
       "      <td>624</td>\n",
       "      <td>624</td>\n",
       "      <td>2018-09-30</td>\n",
       "      <td>16.794364</td>\n",
       "      <td>99.184409</td>\n",
       "      <td>36.900044</td>\n",
       "      <td>36.682254</td>\n",
       "      <td>36.412168</td>\n",
       "      <td>72.847916</td>\n",
       "      <td>63.903832</td>\n",
       "      <td>17.693017</td>\n",
       "      <td>17.720324</td>\n",
       "    </tr>\n",
       "    <tr>\n",
       "      <td>625</td>\n",
       "      <td>625</td>\n",
       "      <td>2018-10-01</td>\n",
       "      <td>16.864604</td>\n",
       "      <td>99.372937</td>\n",
       "      <td>37.128318</td>\n",
       "      <td>36.841104</td>\n",
       "      <td>36.574825</td>\n",
       "      <td>72.740112</td>\n",
       "      <td>63.712625</td>\n",
       "      <td>17.756372</td>\n",
       "      <td>17.783823</td>\n",
       "    </tr>\n",
       "  </tbody>\n",
       "</table>\n",
       "<p>626 rows × 11 columns</p>\n",
       "</div>"
      ],
      "text/plain": [
       "     Unnamed: 0        date  fit top 1  fit top 2  fit top 3  fit2 top 3  \\\n",
       "0             0  2012-10-07   6.464020  14.918372  12.852700   17.560586   \n",
       "1             1  2012-10-14   6.405044  14.879459  13.460605   17.584433   \n",
       "2             2  2012-10-21   5.594880  12.766397  12.500809   16.287381   \n",
       "3             3  2012-10-28   4.556118   9.883558  11.040882   14.667064   \n",
       "4             4  2012-11-04   4.203193   8.345088  10.553082   14.029395   \n",
       "..          ...         ...        ...        ...        ...         ...   \n",
       "621         621  2018-09-27  16.588328  98.782168  36.344867   36.316258   \n",
       "622         622  2018-09-28  16.655365  98.884051  36.503322   36.415425   \n",
       "623         623  2018-09-29  16.724295  99.019655  36.689969   36.538825   \n",
       "624         624  2018-09-30  16.794364  99.184409  36.900044   36.682254   \n",
       "625         625  2018-10-01  16.864604  99.372937  37.128318   36.841104   \n",
       "\n",
       "     fit3 top 3  fit2 top 2  fit3 top 2  fit2 top 1  fit3 top 1  \n",
       "0     16.691433   21.967562   19.348604    6.676299    6.814028  \n",
       "1     16.864402   20.428943   18.149665    6.553469    6.678460  \n",
       "2     15.672930   17.533925   15.621429    5.685904    5.801919  \n",
       "3     14.128378   14.478612   13.020325    4.598339    4.706192  \n",
       "4     13.566908   12.894532   11.970428    4.200978    4.297650  \n",
       "..          ...         ...         ...         ...         ...  \n",
       "621   36.037766   73.258258   64.549945   17.507205   17.533665  \n",
       "622   36.139121   73.103604   64.319097   17.567572   17.594394  \n",
       "623   36.265359   72.967858   64.104769   17.629760   17.656862  \n",
       "624   36.412168   72.847916   63.903832   17.693017   17.720324  \n",
       "625   36.574825   72.740112   63.712625   17.756372   17.783823  \n",
       "\n",
       "[626 rows x 11 columns]"
      ]
     },
     "execution_count": 13,
     "metadata": {},
     "output_type": "execute_result"
    }
   ],
   "source": [
    "prediction"
   ]
  },
  {
   "cell_type": "code",
   "execution_count": 14,
   "metadata": {},
   "outputs": [],
   "source": [
    "prediction[\"year\"] = prediction[\"date\"].apply(getYear)\n",
    "prediction[\"date\"] = prediction[\"date\"].apply(toDate)"
   ]
  },
  {
   "cell_type": "code",
   "execution_count": 15,
   "metadata": {},
   "outputs": [],
   "source": [
    "prediction.drop(\"Unnamed: 0\",axis=1,inplace = True)"
   ]
  },
  {
   "cell_type": "code",
   "execution_count": 16,
   "metadata": {},
   "outputs": [],
   "source": [
    "# Only before 01/10/20\n",
    "without_prediction = prediction.iloc[:261,:]\n"
   ]
  },
  {
   "cell_type": "code",
   "execution_count": 17,
   "metadata": {},
   "outputs": [],
   "source": [
    "# Three fit for each trend \n",
    "\n",
    "fit_top1 = without_prediction[[\"fit top 1\",\"fit2 top 1\",\"fit3 top 1\"]]\n",
    "fit_top2 = without_prediction[[\"fit top 2\",\"fit2 top 2\",\"fit3 top 2\"]]\n",
    "fit_top3 = without_prediction[[\"fit top 3\",\"fit2 top 3\",\"fit3 top 3\"]]"
   ]
  },
  {
   "cell_type": "markdown",
   "metadata": {},
   "source": [
    "#### Find the best fit for all tops\n"
   ]
  },
  {
   "cell_type": "code",
   "execution_count": 18,
   "metadata": {},
   "outputs": [],
   "source": [
    "from sklearn.metrics import mean_squared_error\n",
    "\n",
    "def analysing_fit(actual,prediction_all,top_number):\n",
    "    mse_list = []\n",
    "    for (_, col) in prediction_all.iteritems():\n",
    "        mse = mean_squared_error(actual,col)\n",
    "        mse_list.append(mse)\n",
    "    for i in range(1,4):\n",
    "        print(\"Mse of fit = \" + str(i) + \" for top number = \" + str(top_number) + \" is \" + str(mse_list[i-1]))"
   ]
  },
  {
   "cell_type": "code",
   "execution_count": 19,
   "metadata": {},
   "outputs": [
    {
     "name": "stdout",
     "output_type": "stream",
     "text": [
      "Mse of fit = 1 for top number = 1 is 4.619445525420836\n",
      "Mse of fit = 2 for top number = 1 is 3.1640622488272965\n",
      "Mse of fit = 3 for top number = 1 is 3.090522223996622\n"
     ]
    }
   ],
   "source": [
    "analysing_fit(trend[\"top 1\"],fit_top1,1)"
   ]
  },
  {
   "cell_type": "code",
   "execution_count": 20,
   "metadata": {},
   "outputs": [
    {
     "name": "stdout",
     "output_type": "stream",
     "text": [
      "Mse of fit = 1 for top number = 2 is 69.4652906322346\n",
      "Mse of fit = 2 for top number = 2 is 19.387723969566412\n",
      "Mse of fit = 3 for top number = 2 is 13.031480017222918\n"
     ]
    }
   ],
   "source": [
    "analysing_fit(trend[\"top 2\"],fit_top2,2)"
   ]
  },
  {
   "cell_type": "code",
   "execution_count": 21,
   "metadata": {},
   "outputs": [
    {
     "name": "stdout",
     "output_type": "stream",
     "text": [
      "Mse of fit = 1 for top number = 3 is 8.876389828466367\n",
      "Mse of fit = 2 for top number = 3 is 6.070224709526724\n",
      "Mse of fit = 3 for top number = 3 is 5.608813118784618\n"
     ]
    }
   ],
   "source": [
    "analysing_fit(trend[\"top 3\"],fit_top3,3)"
   ]
  },
  {
   "cell_type": "markdown",
   "metadata": {},
   "source": [
    "#### Provides assessment of how the demand is going to change over the next 3, 6 and 12 months "
   ]
  },
  {
   "cell_type": "code",
   "execution_count": 22,
   "metadata": {},
   "outputs": [],
   "source": [
    "fit3_col = [\"date\",\"fit3 top 1\",\"fit3 top 2\",\"fit3 top 3\"]\n",
    "prediction_only = prediction.iloc[260:,:][fit3_col]\n"
   ]
  },
  {
   "cell_type": "code",
   "execution_count": 23,
   "metadata": {},
   "outputs": [],
   "source": [
    "date = dt.datetime.strptime(\"01-01-2018\",\"%d-%m-%Y\")\n",
    "date_six_month = dt.datetime.strptime(\"01-4-2018\",\"%d-%m-%Y\")\n",
    "three_month_prediction = prediction_only[prediction_only[\"date\"] < date]\n",
    "six_month_prediction = prediction_only[prediction_only[\"date\"] < date_six_month]"
   ]
  },
  {
   "cell_type": "code",
   "execution_count": 24,
   "metadata": {},
   "outputs": [],
   "source": [
    "def displayPrediction(prediction_df):\n",
    "    plt.plot(prediction_df[\"date\"],prediction_df[\"fit3 top 1\"],label=\"top 1\",c=\"red\")\n",
    "    plt.plot(prediction_df[\"date\"],prediction_df[\"fit3 top 2\"],label=\"top 2\",c=\"blue\")\n",
    "    plt.plot(prediction_df[\"date\"],prediction_df[\"fit3 top 3\"],label=\"top 3\",c=\"green\")\n",
    "    plt.xticks(rotation=90)\n",
    "    plt.legend()\n",
    "    plt.xlabel(\"Date\")\n",
    "    plt.ylabel(\"Popularity Score\")\n",
    "    plt.show()"
   ]
  },
  {
   "cell_type": "code",
   "execution_count": 25,
   "metadata": {},
   "outputs": [
    {
     "data": {
      "image/png": "[encoded data removed]",
      "text/plain": [
       "<Figure size 432x288 with 1 Axes>"
      ]
     },
     "metadata": {
      "needs_background": "light"
     },
     "output_type": "display_data"
    }
   ],
   "source": [
    "displayPrediction(three_month_prediction)"
   ]
  },
  {
   "cell_type": "code",
   "execution_count": 26,
   "metadata": {},
   "outputs": [
    {
     "data": {
      "image/png": "[encoded data removed]",
      "text/plain": [
       "<Figure size 432x288 with 1 Axes>"
      ]
     },
     "metadata": {
      "needs_background": "light"
     },
     "output_type": "display_data"
    }
   ],
   "source": [
    "displayPrediction(six_month_prediction)"
   ]
  },
  {
   "cell_type": "code",
   "execution_count": 27,
   "metadata": {},
   "outputs": [
    {
     "data": {
      "image/png": "[encoded data removed]",
      "text/plain": [
       "<Figure size 432x288 with 1 Axes>"
      ]
     },
     "metadata": {
      "needs_background": "light"
     },
     "output_type": "display_data"
    }
   ],
   "source": [
    "displayPrediction(prediction_only)"
   ]
  },
  {
   "cell_type": "markdown",
   "metadata": {},
   "source": [
    "#### Create a predictive model using trend dataset \n",
    "\n",
    "Objective: To predict popularity score for \"top 1,2 and 3\" using the trend dataset."
   ]
  },
  {
   "cell_type": "markdown",
   "metadata": {},
   "source": [
    "#### Adding extra features that are required to build the model"
   ]
  },
  {
   "cell_type": "code",
   "execution_count": 28,
   "metadata": {},
   "outputs": [],
   "source": [
    "def computeAverage(df,no_of_days,col):\n",
    "    df.is_copy = None \n",
    "    avg_col = df[col]\n",
    "    avg_col = avg_col.rolling(no_of_days).mean()\n",
    "    avg_col = avg_col.shift(1)\n",
    "    return avg_col\n",
    "\n",
    "def computeSd(df,no_of_days,col):\n",
    "    avg_sd = df[col]\n",
    "    avg_sd = avg_sd.rolling(no_of_days).std()\n",
    "    avg_sd = avg_sd.shift(1)\n",
    "    return avg_sd\n"
   ]
  },
  {
   "cell_type": "code",
   "execution_count": 29,
   "metadata": {},
   "outputs": [],
   "source": [
    "top_one = trend[[\"top 1\"]]\n",
    "top_two = trend[[\"top 2\"]]\n",
    "top_three = trend[[\"top 3\"]]"
   ]
  },
  {
   "cell_type": "code",
   "execution_count": 30,
   "metadata": {},
   "outputs": [
    {
     "name": "stderr",
     "output_type": "stream",
     "text": [
      "C:\\Users\\leong\\Anaconda3\\lib\\site-packages\\pandas\\core\\generic.py:5191: FutureWarning: Attribute 'is_copy' is deprecated and will be removed in a future version.\n",
      "  object.__getattribute__(self, name)\n",
      "C:\\Users\\leong\\Anaconda3\\lib\\site-packages\\pandas\\core\\generic.py:5192: FutureWarning: Attribute 'is_copy' is deprecated and will be removed in a future version.\n",
      "  return object.__setattr__(self, name, value)\n"
     ]
    }
   ],
   "source": [
    "top_one[\"avg_5\"] = computeAverage(top_one,5,\"top 1\")\n",
    "top_two[\"avg_5\"] = computeAverage(top_two,5,\"top 2\")\n",
    "top_three[\"avg_5\"] = computeAverage(top_three,5,\"top 3\")"
   ]
  },
  {
   "cell_type": "code",
   "execution_count": 31,
   "metadata": {},
   "outputs": [],
   "source": [
    "top_one[\"std_5\"] = computeSd(top_one,5,\"top 1\")\n",
    "top_two[\"std_5\"] = computeSd(top_two,5,\"top 2\")\n",
    "top_three[\"std_5\"] = computeSd(top_three,5,\"top 3\")"
   ]
  },
  {
   "cell_type": "markdown",
   "metadata": {},
   "source": [
    "#### Rows that do not have enough historical data are dropped "
   ]
  },
  {
   "cell_type": "code",
   "execution_count": 32,
   "metadata": {},
   "outputs": [],
   "source": [
    "top_one = top_one.dropna(axis=0)\n",
    "top_two = top_two.dropna(axis=0)\n",
    "top_three = top_three.dropna(axis=0)"
   ]
  },
  {
   "cell_type": "markdown",
   "metadata": {},
   "source": [
    "#### Building a Predictive Model (1) - Linear Regression"
   ]
  },
  {
   "cell_type": "code",
   "execution_count": 33,
   "metadata": {},
   "outputs": [],
   "source": [
    "from sklearn.linear_model import LinearRegression\n",
    "\n",
    "def predict_linear(df,target):\n",
    "    lr = LinearRegression()\n",
    "    lr.fit(df[[\"avg_5\",\"std_5\"]],df[target])\n",
    "    pred = lr.predict(df[[\"avg_5\",\"std_5\"]])\n",
    "    mse = mean_squared_error(df[target],pred)\n",
    "    print(\"Mse for \" + target + \" using Linear Regression is \" + str(mse))\n",
    "    "
   ]
  },
  {
   "cell_type": "code",
   "execution_count": 34,
   "metadata": {},
   "outputs": [
    {
     "name": "stdout",
     "output_type": "stream",
     "text": [
      "Mse for top 1 using Linear Regression is 3.413921198829467\n"
     ]
    }
   ],
   "source": [
    "predict_linear(top_one,\"top 1\")"
   ]
  },
  {
   "cell_type": "code",
   "execution_count": 35,
   "metadata": {},
   "outputs": [
    {
     "name": "stdout",
     "output_type": "stream",
     "text": [
      "Mse for top 2 using Linear Regression is 30.426093313645413\n"
     ]
    }
   ],
   "source": [
    "predict_linear(top_two,\"top 2\")"
   ]
  },
  {
   "cell_type": "code",
   "execution_count": 36,
   "metadata": {},
   "outputs": [
    {
     "name": "stdout",
     "output_type": "stream",
     "text": [
      "Mse for top 3 using Linear Regression is 8.31317648609674\n"
     ]
    }
   ],
   "source": [
    "predict_linear(top_three,\"top 3\")"
   ]
  },
  {
   "cell_type": "markdown",
   "metadata": {},
   "source": [
    "#### Building a predictive model (2) - Random Forest\n"
   ]
  },
  {
   "cell_type": "code",
   "execution_count": 37,
   "metadata": {},
   "outputs": [],
   "source": [
    "# Use top 1, top 2 and top 3 dataset \n",
    "\n",
    "from sklearn.ensemble import RandomForestRegressor\n",
    "\n",
    "def predict_forest(df,target):\n",
    "    clf = RandomForestRegressor(n_estimators = 20,random_state=1,min_samples_leaf = 2)\n",
    "    clf.fit(df[[\"avg_5\",\"std_5\"]],df[target])\n",
    "    pred = clf.predict(df[[\"avg_5\",\"std_5\"]])\n",
    "    df[\"pred\"] = pred\n",
    "    mse = mean_squared_error(df[target],pred)\n",
    "    print(\"Mse for \" + target + \" using Random Forest is \" + str(mse))\n",
    "    return df\n"
   ]
  },
  {
   "cell_type": "code",
   "execution_count": 38,
   "metadata": {},
   "outputs": [
    {
     "name": "stdout",
     "output_type": "stream",
     "text": [
      "Mse for top 1 using Random Forest is 1.5261699469886938\n"
     ]
    }
   ],
   "source": [
    "top_one = predict_forest(top_one,\"top 1\")"
   ]
  },
  {
   "cell_type": "code",
   "execution_count": 39,
   "metadata": {},
   "outputs": [
    {
     "name": "stdout",
     "output_type": "stream",
     "text": [
      "Mse for top 2 using Random Forest is 12.60796765086367\n"
     ]
    }
   ],
   "source": [
    "top_two = predict_forest(top_two,\"top 2\")"
   ]
  },
  {
   "cell_type": "code",
   "execution_count": 40,
   "metadata": {},
   "outputs": [
    {
     "name": "stdout",
     "output_type": "stream",
     "text": [
      "Mse for top 3 using Random Forest is 3.6239799000654873\n"
     ]
    }
   ],
   "source": [
    "top_three = predict_forest(top_three,\"top 3\")"
   ]
  },
  {
   "cell_type": "code",
   "execution_count": 41,
   "metadata": {},
   "outputs": [],
   "source": [
    "modified_trend = pd.concat([top_one,top_two,top_three],axis=1)"
   ]
  },
  {
   "cell_type": "markdown",
   "metadata": {},
   "source": [
    "### A closer look to see how well our predictive model has performed"
   ]
  },
  {
   "cell_type": "code",
   "execution_count": 42,
   "metadata": {},
   "outputs": [],
   "source": [
    "modified_trend.drop([\"avg_5\",\"std_5\"],axis=1,inplace=True)"
   ]
  },
  {
   "cell_type": "code",
   "execution_count": 43,
   "metadata": {},
   "outputs": [
    {
     "data": {
      "text/html": [
       "<div>\n",
       "<style scoped>\n",
       "    .dataframe tbody tr th:only-of-type {\n",
       "        vertical-align: middle;\n",
       "    }\n",
       "\n",
       "    .dataframe tbody tr th {\n",
       "        vertical-align: top;\n",
       "    }\n",
       "\n",
       "    .dataframe thead th {\n",
       "        text-align: right;\n",
       "    }\n",
       "</style>\n",
       "<table border=\"1\" class=\"dataframe\">\n",
       "  <thead>\n",
       "    <tr style=\"text-align: right;\">\n",
       "      <th></th>\n",
       "      <th>top 1</th>\n",
       "      <th>pred</th>\n",
       "      <th>top 2</th>\n",
       "      <th>pred</th>\n",
       "      <th>top 3</th>\n",
       "      <th>pred</th>\n",
       "    </tr>\n",
       "  </thead>\n",
       "  <tbody>\n",
       "    <tr>\n",
       "      <td>5</td>\n",
       "      <td>4</td>\n",
       "      <td>4.298750</td>\n",
       "      <td>14</td>\n",
       "      <td>14.369583</td>\n",
       "      <td>10</td>\n",
       "      <td>12.468333</td>\n",
       "    </tr>\n",
       "    <tr>\n",
       "      <td>6</td>\n",
       "      <td>4</td>\n",
       "      <td>4.298750</td>\n",
       "      <td>12</td>\n",
       "      <td>14.369583</td>\n",
       "      <td>12</td>\n",
       "      <td>12.455893</td>\n",
       "    </tr>\n",
       "    <tr>\n",
       "      <td>7</td>\n",
       "      <td>7</td>\n",
       "      <td>4.393310</td>\n",
       "      <td>14</td>\n",
       "      <td>15.046667</td>\n",
       "      <td>15</td>\n",
       "      <td>14.835119</td>\n",
       "    </tr>\n",
       "    <tr>\n",
       "      <td>8</td>\n",
       "      <td>4</td>\n",
       "      <td>4.985317</td>\n",
       "      <td>17</td>\n",
       "      <td>15.411667</td>\n",
       "      <td>15</td>\n",
       "      <td>14.835119</td>\n",
       "    </tr>\n",
       "    <tr>\n",
       "      <td>9</td>\n",
       "      <td>3</td>\n",
       "      <td>4.104683</td>\n",
       "      <td>14</td>\n",
       "      <td>15.325833</td>\n",
       "      <td>10</td>\n",
       "      <td>12.486905</td>\n",
       "    </tr>\n",
       "    <tr>\n",
       "      <td>10</td>\n",
       "      <td>5</td>\n",
       "      <td>5.388036</td>\n",
       "      <td>9</td>\n",
       "      <td>13.044167</td>\n",
       "      <td>11</td>\n",
       "      <td>11.678690</td>\n",
       "    </tr>\n",
       "    <tr>\n",
       "      <td>11</td>\n",
       "      <td>7</td>\n",
       "      <td>5.333571</td>\n",
       "      <td>13</td>\n",
       "      <td>13.109008</td>\n",
       "      <td>11</td>\n",
       "      <td>12.960655</td>\n",
       "    </tr>\n",
       "    <tr>\n",
       "      <td>12</td>\n",
       "      <td>6</td>\n",
       "      <td>5.556548</td>\n",
       "      <td>14</td>\n",
       "      <td>12.953175</td>\n",
       "      <td>14</td>\n",
       "      <td>12.645476</td>\n",
       "    </tr>\n",
       "    <tr>\n",
       "      <td>13</td>\n",
       "      <td>4</td>\n",
       "      <td>4.996548</td>\n",
       "      <td>11</td>\n",
       "      <td>12.953175</td>\n",
       "      <td>11</td>\n",
       "      <td>12.303571</td>\n",
       "    </tr>\n",
       "    <tr>\n",
       "      <td>14</td>\n",
       "      <td>4</td>\n",
       "      <td>4.996548</td>\n",
       "      <td>13</td>\n",
       "      <td>13.666786</td>\n",
       "      <td>16</td>\n",
       "      <td>15.305119</td>\n",
       "    </tr>\n",
       "    <tr>\n",
       "      <td>15</td>\n",
       "      <td>5</td>\n",
       "      <td>4.530139</td>\n",
       "      <td>16</td>\n",
       "      <td>15.284167</td>\n",
       "      <td>15</td>\n",
       "      <td>12.960655</td>\n",
       "    </tr>\n",
       "    <tr>\n",
       "      <td>16</td>\n",
       "      <td>4</td>\n",
       "      <td>4.530139</td>\n",
       "      <td>16</td>\n",
       "      <td>15.908571</td>\n",
       "      <td>13</td>\n",
       "      <td>12.979524</td>\n",
       "    </tr>\n",
       "    <tr>\n",
       "      <td>17</td>\n",
       "      <td>4</td>\n",
       "      <td>4.256778</td>\n",
       "      <td>18</td>\n",
       "      <td>15.386667</td>\n",
       "      <td>14</td>\n",
       "      <td>14.754405</td>\n",
       "    </tr>\n",
       "    <tr>\n",
       "      <td>18</td>\n",
       "      <td>5</td>\n",
       "      <td>5.130556</td>\n",
       "      <td>14</td>\n",
       "      <td>13.523591</td>\n",
       "      <td>15</td>\n",
       "      <td>14.754405</td>\n",
       "    </tr>\n",
       "    <tr>\n",
       "      <td>19</td>\n",
       "      <td>3</td>\n",
       "      <td>4.393310</td>\n",
       "      <td>19</td>\n",
       "      <td>17.195000</td>\n",
       "      <td>15</td>\n",
       "      <td>15.156667</td>\n",
       "    </tr>\n",
       "    <tr>\n",
       "      <td>20</td>\n",
       "      <td>3</td>\n",
       "      <td>4.028346</td>\n",
       "      <td>19</td>\n",
       "      <td>17.735000</td>\n",
       "      <td>13</td>\n",
       "      <td>14.534286</td>\n",
       "    </tr>\n",
       "    <tr>\n",
       "      <td>21</td>\n",
       "      <td>6</td>\n",
       "      <td>4.314844</td>\n",
       "      <td>18</td>\n",
       "      <td>17.330833</td>\n",
       "      <td>13</td>\n",
       "      <td>14.700952</td>\n",
       "    </tr>\n",
       "    <tr>\n",
       "      <td>22</td>\n",
       "      <td>4</td>\n",
       "      <td>4.253571</td>\n",
       "      <td>20</td>\n",
       "      <td>19.495000</td>\n",
       "      <td>16</td>\n",
       "      <td>14.700952</td>\n",
       "    </tr>\n",
       "    <tr>\n",
       "      <td>23</td>\n",
       "      <td>5</td>\n",
       "      <td>4.253571</td>\n",
       "      <td>16</td>\n",
       "      <td>17.533333</td>\n",
       "      <td>15</td>\n",
       "      <td>15.210357</td>\n",
       "    </tr>\n",
       "    <tr>\n",
       "      <td>24</td>\n",
       "      <td>3</td>\n",
       "      <td>4.253571</td>\n",
       "      <td>14</td>\n",
       "      <td>16.830952</td>\n",
       "      <td>16</td>\n",
       "      <td>15.210357</td>\n",
       "    </tr>\n",
       "    <tr>\n",
       "      <td>25</td>\n",
       "      <td>5</td>\n",
       "      <td>4.253571</td>\n",
       "      <td>18</td>\n",
       "      <td>17.237500</td>\n",
       "      <td>18</td>\n",
       "      <td>16.261667</td>\n",
       "    </tr>\n",
       "    <tr>\n",
       "      <td>26</td>\n",
       "      <td>5</td>\n",
       "      <td>4.509866</td>\n",
       "      <td>15</td>\n",
       "      <td>16.443333</td>\n",
       "      <td>15</td>\n",
       "      <td>15.221667</td>\n",
       "    </tr>\n",
       "    <tr>\n",
       "      <td>27</td>\n",
       "      <td>4</td>\n",
       "      <td>4.110726</td>\n",
       "      <td>17</td>\n",
       "      <td>16.609048</td>\n",
       "      <td>18</td>\n",
       "      <td>16.193452</td>\n",
       "    </tr>\n",
       "    <tr>\n",
       "      <td>28</td>\n",
       "      <td>5</td>\n",
       "      <td>4.110726</td>\n",
       "      <td>17</td>\n",
       "      <td>16.757143</td>\n",
       "      <td>15</td>\n",
       "      <td>15.092143</td>\n",
       "    </tr>\n",
       "    <tr>\n",
       "      <td>29</td>\n",
       "      <td>4</td>\n",
       "      <td>4.110726</td>\n",
       "      <td>14</td>\n",
       "      <td>16.805357</td>\n",
       "      <td>16</td>\n",
       "      <td>15.092143</td>\n",
       "    </tr>\n",
       "    <tr>\n",
       "      <td>30</td>\n",
       "      <td>3</td>\n",
       "      <td>3.698277</td>\n",
       "      <td>19</td>\n",
       "      <td>16.805357</td>\n",
       "      <td>14</td>\n",
       "      <td>15.092143</td>\n",
       "    </tr>\n",
       "    <tr>\n",
       "      <td>31</td>\n",
       "      <td>4</td>\n",
       "      <td>4.028346</td>\n",
       "      <td>15</td>\n",
       "      <td>17.656667</td>\n",
       "      <td>14</td>\n",
       "      <td>14.357222</td>\n",
       "    </tr>\n",
       "    <tr>\n",
       "      <td>32</td>\n",
       "      <td>4</td>\n",
       "      <td>4.111493</td>\n",
       "      <td>20</td>\n",
       "      <td>17.656667</td>\n",
       "      <td>15</td>\n",
       "      <td>14.729167</td>\n",
       "    </tr>\n",
       "    <tr>\n",
       "      <td>33</td>\n",
       "      <td>3</td>\n",
       "      <td>4.111493</td>\n",
       "      <td>16</td>\n",
       "      <td>16.155833</td>\n",
       "      <td>16</td>\n",
       "      <td>16.024167</td>\n",
       "    </tr>\n",
       "    <tr>\n",
       "      <td>34</td>\n",
       "      <td>4</td>\n",
       "      <td>4.589471</td>\n",
       "      <td>16</td>\n",
       "      <td>16.128492</td>\n",
       "      <td>17</td>\n",
       "      <td>16.400000</td>\n",
       "    </tr>\n",
       "    <tr>\n",
       "      <td>35</td>\n",
       "      <td>5</td>\n",
       "      <td>4.589471</td>\n",
       "      <td>16</td>\n",
       "      <td>17.330833</td>\n",
       "      <td>15</td>\n",
       "      <td>15.867500</td>\n",
       "    </tr>\n",
       "    <tr>\n",
       "      <td>36</td>\n",
       "      <td>3</td>\n",
       "      <td>4.111493</td>\n",
       "      <td>16</td>\n",
       "      <td>17.735000</td>\n",
       "      <td>12</td>\n",
       "      <td>14.216667</td>\n",
       "    </tr>\n",
       "    <tr>\n",
       "      <td>37</td>\n",
       "      <td>4</td>\n",
       "      <td>4.314844</td>\n",
       "      <td>20</td>\n",
       "      <td>16.360397</td>\n",
       "      <td>13</td>\n",
       "      <td>14.050000</td>\n",
       "    </tr>\n",
       "    <tr>\n",
       "      <td>38</td>\n",
       "      <td>3</td>\n",
       "      <td>4.314844</td>\n",
       "      <td>16</td>\n",
       "      <td>16.360397</td>\n",
       "      <td>12</td>\n",
       "      <td>13.370833</td>\n",
       "    </tr>\n",
       "    <tr>\n",
       "      <td>39</td>\n",
       "      <td>5</td>\n",
       "      <td>4.314844</td>\n",
       "      <td>16</td>\n",
       "      <td>16.360397</td>\n",
       "      <td>13</td>\n",
       "      <td>13.811131</td>\n",
       "    </tr>\n",
       "    <tr>\n",
       "      <td>40</td>\n",
       "      <td>3</td>\n",
       "      <td>4.643196</td>\n",
       "      <td>16</td>\n",
       "      <td>16.360397</td>\n",
       "      <td>14</td>\n",
       "      <td>14.540119</td>\n",
       "    </tr>\n",
       "    <tr>\n",
       "      <td>41</td>\n",
       "      <td>4</td>\n",
       "      <td>4.260704</td>\n",
       "      <td>14</td>\n",
       "      <td>16.360397</td>\n",
       "      <td>15</td>\n",
       "      <td>14.939167</td>\n",
       "    </tr>\n",
       "    <tr>\n",
       "      <td>42</td>\n",
       "      <td>4</td>\n",
       "      <td>4.314844</td>\n",
       "      <td>18</td>\n",
       "      <td>17.583333</td>\n",
       "      <td>15</td>\n",
       "      <td>14.698690</td>\n",
       "    </tr>\n",
       "    <tr>\n",
       "      <td>43</td>\n",
       "      <td>4</td>\n",
       "      <td>4.314844</td>\n",
       "      <td>16</td>\n",
       "      <td>17.044643</td>\n",
       "      <td>14</td>\n",
       "      <td>14.640119</td>\n",
       "    </tr>\n",
       "    <tr>\n",
       "      <td>44</td>\n",
       "      <td>4</td>\n",
       "      <td>4.111493</td>\n",
       "      <td>20</td>\n",
       "      <td>17.044643</td>\n",
       "      <td>17</td>\n",
       "      <td>15.306071</td>\n",
       "    </tr>\n",
       "    <tr>\n",
       "      <td>45</td>\n",
       "      <td>6</td>\n",
       "      <td>5.098039</td>\n",
       "      <td>17</td>\n",
       "      <td>16.829881</td>\n",
       "      <td>18</td>\n",
       "      <td>16.312500</td>\n",
       "    </tr>\n",
       "    <tr>\n",
       "      <td>46</td>\n",
       "      <td>3</td>\n",
       "      <td>4.110726</td>\n",
       "      <td>18</td>\n",
       "      <td>17.137500</td>\n",
       "      <td>14</td>\n",
       "      <td>14.854167</td>\n",
       "    </tr>\n",
       "    <tr>\n",
       "      <td>47</td>\n",
       "      <td>3</td>\n",
       "      <td>3.892992</td>\n",
       "      <td>17</td>\n",
       "      <td>17.170000</td>\n",
       "      <td>16</td>\n",
       "      <td>15.221667</td>\n",
       "    </tr>\n",
       "    <tr>\n",
       "      <td>48</td>\n",
       "      <td>4</td>\n",
       "      <td>4.611326</td>\n",
       "      <td>18</td>\n",
       "      <td>17.090000</td>\n",
       "      <td>16</td>\n",
       "      <td>15.742500</td>\n",
       "    </tr>\n",
       "    <tr>\n",
       "      <td>49</td>\n",
       "      <td>4</td>\n",
       "      <td>4.611326</td>\n",
       "      <td>15</td>\n",
       "      <td>16.609167</td>\n",
       "      <td>16</td>\n",
       "      <td>15.615952</td>\n",
       "    </tr>\n",
       "    <tr>\n",
       "      <td>50</td>\n",
       "      <td>6</td>\n",
       "      <td>4.611326</td>\n",
       "      <td>18</td>\n",
       "      <td>16.208333</td>\n",
       "      <td>13</td>\n",
       "      <td>14.889286</td>\n",
       "    </tr>\n",
       "    <tr>\n",
       "      <td>51</td>\n",
       "      <td>5</td>\n",
       "      <td>4.611326</td>\n",
       "      <td>17</td>\n",
       "      <td>16.415833</td>\n",
       "      <td>14</td>\n",
       "      <td>15.813056</td>\n",
       "    </tr>\n",
       "    <tr>\n",
       "      <td>52</td>\n",
       "      <td>6</td>\n",
       "      <td>4.610952</td>\n",
       "      <td>15</td>\n",
       "      <td>16.208333</td>\n",
       "      <td>17</td>\n",
       "      <td>15.813056</td>\n",
       "    </tr>\n",
       "    <tr>\n",
       "      <td>53</td>\n",
       "      <td>6</td>\n",
       "      <td>5.114444</td>\n",
       "      <td>16</td>\n",
       "      <td>15.148333</td>\n",
       "      <td>15</td>\n",
       "      <td>14.755833</td>\n",
       "    </tr>\n",
       "    <tr>\n",
       "      <td>54</td>\n",
       "      <td>6</td>\n",
       "      <td>3.896667</td>\n",
       "      <td>17</td>\n",
       "      <td>17.055357</td>\n",
       "      <td>16</td>\n",
       "      <td>15.435000</td>\n",
       "    </tr>\n",
       "  </tbody>\n",
       "</table>\n",
       "</div>"
      ],
      "text/plain": [
       "    top 1      pred  top 2       pred  top 3       pred\n",
       "5       4  4.298750     14  14.369583     10  12.468333\n",
       "6       4  4.298750     12  14.369583     12  12.455893\n",
       "7       7  4.393310     14  15.046667     15  14.835119\n",
       "8       4  4.985317     17  15.411667     15  14.835119\n",
       "9       3  4.104683     14  15.325833     10  12.486905\n",
       "10      5  5.388036      9  13.044167     11  11.678690\n",
       "11      7  5.333571     13  13.109008     11  12.960655\n",
       "12      6  5.556548     14  12.953175     14  12.645476\n",
       "13      4  4.996548     11  12.953175     11  12.303571\n",
       "14      4  4.996548     13  13.666786     16  15.305119\n",
       "15      5  4.530139     16  15.284167     15  12.960655\n",
       "16      4  4.530139     16  15.908571     13  12.979524\n",
       "17      4  4.256778     18  15.386667     14  14.754405\n",
       "18      5  5.130556     14  13.523591     15  14.754405\n",
       "19      3  4.393310     19  17.195000     15  15.156667\n",
       "20      3  4.028346     19  17.735000     13  14.534286\n",
       "21      6  4.314844     18  17.330833     13  14.700952\n",
       "22      4  4.253571     20  19.495000     16  14.700952\n",
       "23      5  4.253571     16  17.533333     15  15.210357\n",
       "24      3  4.253571     14  16.830952     16  15.210357\n",
       "25      5  4.253571     18  17.237500     18  16.261667\n",
       "26      5  4.509866     15  16.443333     15  15.221667\n",
       "27      4  4.110726     17  16.609048     18  16.193452\n",
       "28      5  4.110726     17  16.757143     15  15.092143\n",
       "29      4  4.110726     14  16.805357     16  15.092143\n",
       "30      3  3.698277     19  16.805357     14  15.092143\n",
       "31      4  4.028346     15  17.656667     14  14.357222\n",
       "32      4  4.111493     20  17.656667     15  14.729167\n",
       "33      3  4.111493     16  16.155833     16  16.024167\n",
       "34      4  4.589471     16  16.128492     17  16.400000\n",
       "35      5  4.589471     16  17.330833     15  15.867500\n",
       "36      3  4.111493     16  17.735000     12  14.216667\n",
       "37      4  4.314844     20  16.360397     13  14.050000\n",
       "38      3  4.314844     16  16.360397     12  13.370833\n",
       "39      5  4.314844     16  16.360397     13  13.811131\n",
       "40      3  4.643196     16  16.360397     14  14.540119\n",
       "41      4  4.260704     14  16.360397     15  14.939167\n",
       "42      4  4.314844     18  17.583333     15  14.698690\n",
       "43      4  4.314844     16  17.044643     14  14.640119\n",
       "44      4  4.111493     20  17.044643     17  15.306071\n",
       "45      6  5.098039     17  16.829881     18  16.312500\n",
       "46      3  4.110726     18  17.137500     14  14.854167\n",
       "47      3  3.892992     17  17.170000     16  15.221667\n",
       "48      4  4.611326     18  17.090000     16  15.742500\n",
       "49      4  4.611326     15  16.609167     16  15.615952\n",
       "50      6  4.611326     18  16.208333     13  14.889286\n",
       "51      5  4.611326     17  16.415833     14  15.813056\n",
       "52      6  4.610952     15  16.208333     17  15.813056\n",
       "53      6  5.114444     16  15.148333     15  14.755833\n",
       "54      6  3.896667     17  17.055357     16  15.435000"
      ]
     },
     "execution_count": 43,
     "metadata": {},
     "output_type": "execute_result"
    }
   ],
   "source": [
    "modified_trend.head(50)"
   ]
  },
  {
   "cell_type": "code",
   "execution_count": null,
   "metadata": {},
   "outputs": [],
   "source": []
  }
 ],
 "metadata": {
  "kernelspec": {
   "display_name": "Python 3",
   "language": "python",
   "name": "python3"
  },
  "language_info": {
   "codemirror_mode": {
    "name": "ipython",
    "version": 3
   },
   "file_extension": ".py",
   "mimetype": "text/x-python",
   "name": "python",
   "nbconvert_exporter": "python",
   "pygments_lexer": "ipython3",
   "version": "3.7.4"
  }
 },
 "nbformat": 4,
 "nbformat_minor": 2
}
